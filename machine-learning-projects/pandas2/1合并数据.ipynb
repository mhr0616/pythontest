{
 "cells": [
  {
   "cell_type": "markdown",
   "metadata": {},
   "source": [
    "# 使用pandas进行数据预处理\n",
    "\n",
    "请查看：file:///D:\\教学材料\\备课\\机器学习实训课\\数据分析与应用\\57558-Python数据分析与应用（第2版）（微课版）-PPT\\第4章%20使用pandas进行数据预处理.pptx\n",
    "\n",
    "### 1. 横向堆叠\n",
    "横向堆叠，即将两个表在x轴向拼接在一起，可以使用concat函数完成。concat函数的基本使用格式如下。\n",
    "\n",
    "    pandas.concat(objs, axis=0, join='outer', ignore_index=False, keys=None, levels=None, names=None, verify_integrity=False, sort=False, copy=True)\n",
    "\n",
    "\n",
    "concat函数的常用参数及其说明如下表。\n",
    "![本地路径](.\\\\pics\\\\1.png \"相对路径演示,下一级目录\")\n",
    "\n",
    "\n"
   ]
  },
  {
   "cell_type": "code",
   "execution_count": 7,
   "metadata": {},
   "outputs": [
    {
     "name": "stdout",
     "output_type": "stream",
     "text": [
      "合并df1的大小为(2235, 3)，df2的大小为(2235, 4)\n",
      "外连接合并后的数据框大小为： (2235, 7)\n",
      "内连接合并后的数据框大小为： (2235, 7)\n"
     ]
    }
   ],
   "source": [
    "# 代码 4-1\n",
    "import pandas as pd\n",
    "user_all_info = pd.read_csv('./data/user_all_info.csv')\n",
    "df1 = user_all_info.iloc[:, :3]  # 取出user_all_info的前3列数据\n",
    "df2 = user_all_info.iloc[:, 3:]  # 取出user_all_info的后4到最后列数据\n",
    "#print(df1)\n",
    "print('合并df1的大小为%s，df2的大小为%s' % (df1.shape, df2.shape))\n",
    "print('外连接合并后的数据框大小为：', pd.concat([df1, df2], axis=1,\n",
    "                                 join='outer').shape) \n",
    "print('内连接合并后的数据框大小为：', pd.concat([df1, df2], axis=1,\n",
    "                                  join='inner').shape)"
   ]
  },
  {
   "cell_type": "code",
   "execution_count": 13,
   "metadata": {},
   "outputs": [
    {
     "name": "stdout",
     "output_type": "stream",
     "text": [
      "   A  a\n",
      "0  1  2\n",
      "1  2  3\n",
      "2  4  5\n",
      "\n",
      "\n",
      "   A  B\n",
      "0  1  2\n",
      "1  2  3\n",
      "2  4  5\n",
      "\n",
      "\n",
      "   A    a    B\n",
      "0  1  2.0  NaN\n",
      "1  2  3.0  NaN\n",
      "2  4  5.0  NaN\n",
      "0  1  NaN  2.0\n",
      "1  2  NaN  3.0\n",
      "2  4  NaN  5.0\n",
      "\n",
      "\n",
      "   A\n",
      "0  1\n",
      "1  2\n",
      "2  4\n",
      "0  1\n",
      "1  2\n",
      "2  4\n",
      "横向合并\n",
      "\n",
      "   A  a  A  B\n",
      "0  1  2  1  2\n",
      "1  2  3  2  3\n",
      "2  4  5  4  5\n",
      "\n",
      "\n",
      "   A  a  A  B\n",
      "0  1  2  1  2\n",
      "1  2  3  2  3\n",
      "2  4  5  4  5\n"
     ]
    }
   ],
   "source": [
    "\n",
    "import numpy as np\n",
    "import pandas as pd\n",
    "\n",
    "#建表\n",
    "data=np.array([[1,2],[2,3],[4,5]])\n",
    "df1=pd.DataFrame(data,columns=['A','a'])\n",
    "df2=pd.DataFrame(data,columns=['A','B'])\n",
    "print(df1)\n",
    "print(\"\\n\")\n",
    "print(df2)\n",
    "print(\"\\n\")\n",
    "#纵向合并\n",
    "print(pd.concat([df1,df2],axis=0,join='outer'))\n",
    "print(\"\\n\")\n",
    "print(pd.concat([df1,df2],axis=0,join='inner'))\n",
    "print(\"横向合并\\n\")\n",
    "#横向合并\n",
    "print(pd.concat([df1,df2],axis=1,join='inner'))\n",
    "print(\"\\n\")\n",
    "print(pd.concat([df1,df2],axis=1,join='outer'))\n",
    "\n",
    "\n"
   ]
  },
  {
   "cell_type": "markdown",
   "metadata": {},
   "source": [
    "***"
   ]
  },
  {
   "cell_type": "markdown",
   "metadata": {},
   "source": [
    "\n",
    "### 主键合并\n",
    " merge函数的常用参数及其说明（续表）。 PPT第11页\n",
    "\n",
    "https://blog.csdn.net/shenliang1985/article/details/118727212\n"
   ]
  },
  {
   "cell_type": "markdown",
   "metadata": {},
   "source": [
    "1.Merge inner(内连接)方式时会按照两个DataFrame有相同的列名和值去匹配，有记录即返回。返回的列名不会出现重复。"
   ]
  },
  {
   "cell_type": "code",
   "execution_count": 16,
   "metadata": {},
   "outputs": [
    {
     "name": "stdout",
     "output_type": "stream",
     "text": [
      "  name  age level\n",
      "0   李四   32     A\n",
      "1   王二   19     B\n"
     ]
    }
   ],
   "source": [
    "import pandas as pd\n",
    "df1=pd.DataFrame([[\"张三\",28],[\"李四\",32],[\"王二\",19]],columns=['name','age',],index=['no_001','no_002','no_003'])\n",
    "df2=pd.DataFrame([[\"李四\",32,'A'],[\"王二\",19,'B'],[\"王三\",34,'C']],columns=['name','age','level'],index=['no_004','no_005','no_006'])\n",
    "print(pd.merge(df1,df2,how='inner'))\n",
    "\n",
    "#print(pd.merge(df1,df2)) #等价于上式\n",
    "#print(df1.merge(df2)) #等价于上式"
   ]
  },
  {
   "cell_type": "markdown",
   "metadata": {},
   "source": [
    "2.Merge 外连接\n",
    "\n",
    "Merge outer(外连接)方式是会按照两个DataFrame有相同的列名和值去匹配，匹配不上的用NaN填充。返回的列名不会出现重复"
   ]
  },
  {
   "cell_type": "code",
   "execution_count": 17,
   "metadata": {},
   "outputs": [
    {
     "name": "stdout",
     "output_type": "stream",
     "text": [
      "  name  age level\n",
      "0   张三   28   NaN\n",
      "1   李四   32     A\n",
      "2   王二   19     B\n",
      "3   王三   34     C\n"
     ]
    }
   ],
   "source": [
    "import pandas as pd\n",
    "df1=pd.DataFrame([[\"张三\",28],[\"李四\",32],[\"王二\",19]],columns=['name','age',],index=['no_001','no_002','no_003'])\n",
    "df2=pd.DataFrame([[\"李四\",32,'A'],[\"王二\",19,'B'],[\"王三\",34,'C']],columns=['name','age','level'],index=['no_004','no_005','no_006'])\n",
    "print(pd.merge(df1,df2,how='outer'))\n",
    "#print(df1.merge(df2,how='outer')) #等价于上式\n"
   ]
  },
  {
   "cell_type": "markdown",
   "metadata": {},
   "source": [
    "3. Merge 左外连接   \n",
    "        Merge left(左连接)方式是按照两个DataFrame有相同的列名和值去匹配，其中左边的为主表(返回记录同左表)，匹配不上的用NaN填充。返回的列名不会出现重复。   \n",
    "\n",
    "同理right（右连接）与左连接类似。  "
   ]
  },
  {
   "cell_type": "code",
   "execution_count": 18,
   "metadata": {},
   "outputs": [
    {
     "name": "stdout",
     "output_type": "stream",
     "text": [
      "  name  age level\n",
      "0   张三   28   NaN\n",
      "1   李四   32     A\n",
      "2   王二   19     B\n",
      "  name  age level\n",
      "0   李四   32     A\n",
      "1   王二   19     B\n",
      "2   王三   34     C\n"
     ]
    }
   ],
   "source": [
    "import pandas as pd\n",
    "df1=pd.DataFrame([[\"张三\",28],[\"李四\",32],[\"王二\",19]],columns=['name','age',],index=['no_001','no_002','no_003'])\n",
    "df2=pd.DataFrame([[\"李四\",32,'A'],[\"王二\",19,'B'],[\"王三\",34,'C']],columns=['name','age','level'],index=['no_004','no_005','no_006'])\n",
    "print(pd.merge(df1,df2,how='left'))\n",
    "# print(df1.merge(df2,how='left')) 等价于上式\n",
    "print(pd.merge(df1,df2,how='right'))\n"
   ]
  },
  {
   "cell_type": "markdown",
   "metadata": {},
   "source": [
    "*** \n",
    "重叠合并数据  PPT 第四章第 15 页\n",
    "![本地路径](.\\\\pics\\\\2.png \"相对路径演示,下一级目录\")\n",
    "\n",
    "\n"
   ]
  },
  {
   "cell_type": "code",
   "execution_count": 19,
   "metadata": {},
   "outputs": [
    {
     "name": "stdout",
     "output_type": "stream",
     "text": [
      "经过重叠合并后的数据为：\n",
      "    ID System cpu\n",
      "0   1  win10  i7\n",
      "1   2  win10  i5\n",
      "2   3   win7  i3\n",
      "3   4  win10  i7\n",
      "4   5   win8  i7\n",
      "5   6   win7  i5\n",
      "6   7   win7  i5\n",
      "7   8   win7  i5\n",
      "8   9   win8  i3\n"
     ]
    }
   ],
   "source": [
    "\n",
    "# 代码 4-6\n",
    "import numpy as np\n",
    "#建立两个字典，除了ID外，别的特征互补\n",
    "dict1 = {'ID': [1, 2, 3, 4, 5, 6, 7, 8, 9],\n",
    "         'System': ['win10', 'win10', np.nan, 'win10',\n",
    "                np.nan, np.nan, 'win7', 'win7', 'win8'], \n",
    "      'cpu': ['i7', 'i5', np.nan, 'i7', np.nan, np.nan, \n",
    "             'i5', 'i5', 'i3']}\n",
    "dict2 = {'ID': [1, 2, 3, 4, 5, 6, 7, 8, 9], \n",
    "         'System': [np.nan, np.nan, 'win7', np.nan, \n",
    "                'win8', 'win7', np.nan, np.nan, np.nan], \n",
    "        'cpu': [np.nan, np.nan, 'i3', np.nan, 'i7', \n",
    "                'i5', np.nan, np.nan, np.nan]}\n",
    "# 变换两个字典为DataFrame\n",
    "df1 = pd.DataFrame(dict1)\n",
    "df2 = pd.DataFrame(dict2)\n",
    "print('经过重叠合并后的数据为：\\n', df1.combine_first(df2))"
   ]
  }
 ],
 "metadata": {
  "kernelspec": {
   "display_name": "Python 3.10.12 ('myenvironment')",
   "language": "python",
   "name": "python3"
  },
  "language_info": {
   "codemirror_mode": {
    "name": "ipython",
    "version": 3
   },
   "file_extension": ".py",
   "mimetype": "text/x-python",
   "name": "python",
   "nbconvert_exporter": "python",
   "pygments_lexer": "ipython3",
   "version": "3.10.12"
  },
  "orig_nbformat": 4,
  "vscode": {
   "interpreter": {
    "hash": "752244e9522ce7bff77f709c9fbfe6d48f384cad76934c97270b332f67d36b72"
   }
  }
 },
 "nbformat": 4,
 "nbformat_minor": 2
}
