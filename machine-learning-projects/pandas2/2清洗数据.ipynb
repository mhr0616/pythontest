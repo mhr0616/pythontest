{
 "cells": [
  {
   "cell_type": "markdown",
   "metadata": {},
   "source": [
    "# 清洗数据\n",
    "### 1.记录去重  PPT 15-17\n",
    "\n",
    "记录重复，即一个或多个特征的某几条记录的值完全相同。   \n",
    "方法一：利用列表（list）去重，自定义去重函数。   \n",
    "方法二：利用集合（set）元素唯一的特性去重。   \n",
    "比较上述两种方法可以发现，方法一代码冗长。方法二看似代码简洁了许多，但是会导致数据的排列发生改变。  \n",
    "\n",
    "\n",
    "pandas提供了一个名为drop_duplicates的去重方法，使用该方法进行去重不会改变数据原始排列，并且兼具代码简洁和运行稳定的特点。\n",
    "不仅支持单一特征的数据去重，还能够依据DataFrame的其中一个或多个特征进行去重操作。drop_duplicates()方法的基本使用格式如下。\n"
   ]
  },
  {
   "cell_type": "markdown",
   "metadata": {},
   "source": [
    "方法一：按照是否愿意下载这个字段进行去重"
   ]
  },
  {
   "cell_type": "code",
   "execution_count": 2,
   "metadata": {},
   "outputs": [
    {
     "name": "stdout",
     "output_type": "stream",
     "text": [
      "去重前下载意愿选项总数为： 2175\n",
      "方法一去重后下载意愿选项总数为： 3\n",
      "用户选项为： ['Yes', 'No', nan]\n"
     ]
    }
   ],
   "source": [
    "# 代码 4-7\n",
    "import pandas as pd\n",
    "download = pd.read_csv('./data/user_download.csv', \n",
    "                       index_col=0, encoding='utf-8')\n",
    "# 方法一\n",
    "# 定义去重函数\n",
    "def del_rep(list1):\n",
    "    list2 = []\n",
    "    for i in list1:\n",
    "        if i not in list2:\n",
    "            list2.append(i)\n",
    "    return list2 \n",
    "# 去重\n",
    "# 将下载意愿从数据框中提取出来\n",
    "download = list(download['是否愿意下载'])  \n",
    "print('去重前下载意愿选项总数为：', len(download)) \n",
    "download_rep = del_rep(download)  # 使用自定义的去重函数去重\n",
    "print('方法一去重后下载意愿选项总数为：', len(download_rep))\n",
    "print('用户选项为：', download_rep)"
   ]
  },
  {
   "cell_type": "code",
   "execution_count": 3,
   "metadata": {},
   "outputs": [
    {
     "name": "stdout",
     "output_type": "stream",
     "text": [
      "去重前下载意愿选项总数为： 2175\n",
      "方法二去重后下载意愿选项总数为： 3\n",
      "用户选项为： {'Yes', 'No', nan}\n"
     ]
    }
   ],
   "source": [
    "# 代码 4-8\n",
    "# 方法二\n",
    "print('去重前下载意愿选项总数为：', len(download)) \n",
    "download_set = set(download)  # 利用set的特性去重\n",
    "print('方法二去重后下载意愿选项总数为：', len(download_set))\n",
    "print('用户选项为：', download_set)"
   ]
  },
  {
   "cell_type": "code",
   "execution_count": 4,
   "metadata": {},
   "outputs": [
    {
     "name": "stdout",
     "output_type": "stream",
     "text": [
      "drop_duplicates方法去重之后下载意愿选项总数为： 3\n"
     ]
    }
   ],
   "source": [
    "# 对下载意愿去重\n",
    "download = pd.read_csv('./data/user_download.csv', \n",
    "                       encoding='utf-8')\n",
    "download_select = download['是否愿意下载'].drop_duplicates() \n",
    "print('drop_duplicates方法去重之后下载意愿选项总数为：', \n",
    "      len(download_select))"
   ]
  },
  {
   "cell_type": "markdown",
   "metadata": {},
   "source": [
    " 依照用户编号，编号去重之后用户总信息表"
   ]
  },
  {
   "cell_type": "code",
   "execution_count": 6,
   "metadata": {},
   "outputs": [
    {
     "name": "stdout",
     "output_type": "stream",
     "text": [
      "去重之前用户的形状为： (2235, 7)\n",
      "依照用户编号，编号去重之后用户总信息表大小为: (2172, 7)\n"
     ]
    }
   ],
   "source": [
    "# 代码 4-10\n",
    "all_info = pd.read_csv('./data/user_all_info.csv')\n",
    "print('去重之前用户的形状为：', all_info.shape)\n",
    "shape_det = all_info.drop_duplicates(subset = ['用户编号', \n",
    "                                               '编号']).shape\n",
    "print('依照用户编号，编号去重之后用户总信息表大小为:', shape_det)"
   ]
  },
  {
   "cell_type": "markdown",
   "metadata": {},
   "source": [
    "***\n",
    "### 2. 特征重复\n"
   ]
  },
  {
   "cell_type": "markdown",
   "metadata": {},
   "source": [
    "结合相关的数学和统计学知识，要去除连续的特征重复，可以利用特征间的相似度将两个相似度为1的特征去除其中一个。    \n",
    "在pandas中，相似度的计算方法为corr()。使用该方法计算相似度时，默认为pearson法，可以通过method参数进行调节，目前还支持spearman法和kendall法。   \n",
    "通过相似度矩阵去重存在一个弊端是只能对数值型重复特征去重，类别型特征之间无法通过计算相似系数来衡量相似度，因此无法根据相似度矩阵对其进行去重处理。   \n",
    "除了使用相似度矩阵进行特征去重之外，还可以通过equals()方法进行特征去重。   \n"
   ]
  },
  {
   "cell_type": "code",
   "execution_count": 10,
   "metadata": {},
   "outputs": [],
   "source": [
    "#%conda install scipy"
   ]
  },
  {
   "cell_type": "code",
   "execution_count": 9,
   "metadata": {},
   "outputs": [
    {
     "name": "stdout",
     "output_type": "stream",
     "text": [
      "年龄和每月支出的相似度矩阵为：\n",
      "             年龄      每月支出\n",
      "年龄    1.000000  0.011119\n",
      "每月支出  0.011119  1.000000\n"
     ]
    }
   ],
   "source": [
    "# 代码 4-11\n",
    "# 求取年龄和每月支出的相似度\n",
    "corr_det = all_info[['年龄', '每月支出']].corr(method='kendall')\n",
    "print('年龄和每月支出的相似度矩阵为：\\n', corr_det)\n"
   ]
  },
  {
   "cell_type": "code",
   "execution_count": 27,
   "metadata": {},
   "outputs": [
    {
     "name": "stdout",
     "output_type": "stream",
     "text": [
      "居住类型、年龄和每月支出的pearson法相似度矩阵为：\n",
      "             年龄      每月支出\n",
      "年龄    1.000000  0.014168\n",
      "每月支出  0.014168  1.000000\n"
     ]
    }
   ],
   "source": [
    "all_info = pd.read_csv('./data/user_all_info.csv')\n",
    "#请务必保证用于计算相似度的字段都是数值型\n",
    "\n",
    "#假如 年龄包含一个非数值的记录，如何删除\n",
    "all_info = all_info[pd.to_numeric(all_info['年龄'], errors='coerce').notnull()]\n",
    "\n",
    "\n",
    "# 代码 4-12\n",
    "corr_det1 = all_info[[ '年龄', '每月支出'\n",
    "                      ]].corr(method='pearson')\n",
    "print('居住类型、年龄和每月支出的pearson法相似度矩阵为：\\n', corr_det1)"
   ]
  },
  {
   "cell_type": "markdown",
   "metadata": {},
   "source": [
    "***\n",
    "### 3检测与处理缺失值\n",
    "\n",
    "在数据中的某个或某些特征的值是不完整的，这些值称为缺失值。   \n",
    "pandas提供了识别缺失值的isnull()方法以及识别非缺失值的notnull()方法，这两种方法在使用时返回的都是布尔值，即True和False。   \n",
    "结合sum函数、isnull()方法和notnull()方法，可以检测数据中缺失值的分布以及数据中一共含有多少缺失值。   \n",
    "isnull()方法和notnull()方法的结果正好相反，因此使用其中任意一个都可以识别出数据是否存在缺失值。  \n"
   ]
  },
  {
   "cell_type": "code",
   "execution_count": 28,
   "metadata": {},
   "outputs": [
    {
     "name": "stdout",
     "output_type": "stream",
     "text": [
      "all_info每个特征缺失的数目为：\n",
      " 用户编号       0\n",
      "年龄         0\n",
      "性别         0\n",
      "居住类型      22\n",
      "编号         0\n",
      "每月支出      20\n",
      "是否愿意下载    20\n",
      "dtype: int64\n",
      "all_info每个特征非缺失的数目为：\n",
      " 用户编号      2229\n",
      "年龄        2229\n",
      "性别        2229\n",
      "居住类型      2207\n",
      "编号        2229\n",
      "每月支出      2209\n",
      "是否愿意下载    2209\n",
      "dtype: int64\n"
     ]
    }
   ],
   "source": [
    "# 代码 4-15\n",
    "print('all_info每个特征缺失的数目为：\\n', all_info.isnull().sum())\n",
    "print('all_info每个特征非缺失的数目为：\\n', all_info.notnull().sum())\n"
   ]
  },
  {
   "cell_type": "markdown",
   "metadata": {},
   "source": [
    "***\n",
    "删除方法 dropna  \n",
    "\n",
    "pandas.DataFrame.dropna(axis=0, how='any', thresh=None, subset=None, inplace=False)\n",
    "\n",
    "![本地路径](.\\\\pics\\\\3.png \"相对路径演示,下一级目录\")"
   ]
  },
  {
   "cell_type": "code",
   "execution_count": 30,
   "metadata": {},
   "outputs": [
    {
     "name": "stdout",
     "output_type": "stream",
     "text": [
      "去除缺失的行前all_info的形状为： (2229, 7)\n",
      "去除缺失的行后all_info的形状为： (2169, 7)\n"
     ]
    }
   ],
   "source": [
    "# 代码 4-16\n",
    "print('去除缺失的行前all_info的形状为：', all_info.shape)\n",
    "all_info1 = all_info.dropna(axis=0, how='any')\n",
    "print('去除缺失的行后all_info的形状为：', all_info1.shape)\n",
    "all_info1.to_csv('./tmp/all_info_notnull.csv', index=False)"
   ]
  },
  {
   "cell_type": "markdown",
   "metadata": {},
   "source": [
    "***\n",
    "缺失值替换\n",
    "替换法是指用一个特定的值替换缺失值。   \n",
    "特征可分为数值型和类别型，两者出现缺失值时的处理方法也是不同的。   \n",
    "当缺失值所在特征为数值型时，通常利用其均值、中位数或众数等描述其集中趋势的统计量来代替缺失值。  \n",
    "当缺失值所在特征为类别型时，则选择使用众数来替换缺失值。  \n",
    "\n",
    "\n"
   ]
  },
  {
   "cell_type": "markdown",
   "metadata": {},
   "source": [
    "![本地路径](.\\\\pics\\\\4.png \"相对路径演示,下一级目录\")\n",
    "![本地路径](.\\\\pics\\\\5.png \"相对路径演示,下一级目录\")"
   ]
  },
  {
   "cell_type": "code",
   "execution_count": 33,
   "metadata": {},
   "outputs": [
    {
     "name": "stdout",
     "output_type": "stream",
     "text": [
      "每月支出特征缺失的数目为：\n",
      " 0\n"
     ]
    }
   ],
   "source": [
    "# 代码 4-17\n",
    "# 求每月支出平均值\n",
    "mean_num = all_info['每月支出'].mean()\n",
    "# 缺失值替换为均值\n",
    "all_info['每月支出'] = all_info['每月支出'].fillna(mean_num)\n",
    "print('每月支出特征缺失的数目为：\\n', \n",
    "      all_info['每月支出'].isnull().sum())"
   ]
  },
  {
   "cell_type": "markdown",
   "metadata": {},
   "source": [
    "***\n",
    "### 3. 插值法  见PPT 26到28\n"
   ]
  },
  {
   "cell_type": "code",
   "execution_count": 34,
   "metadata": {},
   "outputs": [
    {
     "name": "stdout",
     "output_type": "stream",
     "text": [
      "当x为6、7时，使用线性插值y1为： [ 76. 102.]\n",
      "当x为6、7时，使用线性插值y2为： [13. 15.]\n",
      "当x为6,7时，使用拉格朗日插值y1为： [72. 98.]\n",
      "当x为6,7时，使用拉格朗日插值y2为： [13. 15.]\n",
      "使用样条插值y1为： [  2.   8.  18.  32.  50.  72.  98. 128. 162. 200.]\n",
      "使用样条插值y2为： [ 3.  5.  7.  9. 11. 13. 15. 17. 19. 21.]\n"
     ]
    }
   ],
   "source": [
    "import numpy as np\n",
    "from scipy.interpolate import interp1d\n",
    "# 创建自变量x\n",
    "x = np.array([1, 2, 3, 4, 5, 8, 9, 10])  \n",
    "# 创建因变量y1\n",
    "y1 = np.array([2, 8, 18, 32, 50, 128, 162, 200])  \n",
    "# 创建因变量y2\n",
    "y2 = np.array([3, 5, 7, 9, 11, 17, 19, 21])  \n",
    "# 线性插值拟合x、y1\n",
    "linear_ins_value1 = interp1d(x, y1, kind='linear')  \n",
    "# 线性插值拟合x、y2\n",
    "linear_ins_value2 = interp1d(x, y2, kind='linear')  \n",
    "print('当x为6、7时，使用线性插值y1为：', linear_ins_value1([6, 7]))\n",
    "print('当x为6、7时，使用线性插值y2为：', linear_ins_value2([6, 7]))\n",
    "\n",
    "# 拉格朗日插值\n",
    "from scipy.interpolate import lagrange\n",
    "large_ins_value1 = lagrange(x, y1)  # 拉格朗日插值拟合x、y1\n",
    "large_ins_value2 = lagrange(x, y2)  # 拉格朗日插值拟合x、y2\n",
    "print('当x为6,7时，使用拉格朗日插值y1为：', large_ins_value1([6, 7]))\n",
    "print('当x为6,7时，使用拉格朗日插值y2为：', large_ins_value2([6, 7]))\n",
    "\n",
    "# 样条插值\n",
    "# 样条插值拟合x、y1\n",
    "y1_new = np.linspace(x.min(), x.max(), 10)\n",
    "f = interp1d(x, y1, kind='cubic')  # 编辑插值函数格式\n",
    "spline_ins_value1 = f(y1_new) # 通过相应的插值函数求得新的函数点\n",
    "# 样条插值拟合x、y2\n",
    "y2_new = np.linspace(x.min(), x.max(), 10)\n",
    "f = interp1d(x, y2, kind='cubic')  # 编辑插值函数格式\n",
    "spline_ins_value2 = f(y2_new) # 通过相应的插值函数求得新的函数点\n",
    "print('使用样条插值y1为：', spline_ins_value1)\n",
    "print('使用样条插值y2为：', spline_ins_value2)\n"
   ]
  },
  {
   "cell_type": "markdown",
   "metadata": {},
   "source": [
    "### 4检测与处理异常值  见PPT"
   ]
  },
  {
   "cell_type": "code",
   "execution_count": 36,
   "metadata": {},
   "outputs": [
    {
     "name": "stdout",
     "output_type": "stream",
     "text": [
      "使用3σ原则判定异常值个数为: 7\n",
      "异常值的最大值为： -1.0\n",
      "异常值的最小值为： -5.0\n"
     ]
    }
   ],
   "source": [
    "all_info = pd.read_csv('./tmp/all_info_notnull.csv')\n",
    "# 定义3σ原则来识别异常值函数\n",
    "def out_range(ser1):\n",
    "    bool_ind = (ser1.mean() - 3 * ser1.std() > ser1) | \\\n",
    "    (ser1.mean() + 3 * ser1.var() < ser1)\n",
    "    index = np.arange(ser1.shape[0])[bool_ind]\n",
    "    outrange = ser1.iloc[index]\n",
    "    return outrange\n",
    "outlier = out_range(all_info['年龄'])\n",
    "print('使用3σ原则判定异常值个数为:', outlier.shape[0])\n",
    "print('异常值的最大值为：', outlier.max())\n",
    "print('异常值的最小值为：', outlier.min())"
   ]
  },
  {
   "cell_type": "code",
   "execution_count": 39,
   "metadata": {},
   "outputs": [
    {
     "data": {
      "image/png": "[encoded data removed]",
      "text/plain": [
       "<Figure size 1800x1200 with 1 Axes>"
      ]
     },
     "metadata": {},
     "output_type": "display_data"
    },
    {
     "name": "stdout",
     "output_type": "stream",
     "text": [
      "年龄数据异常值个数为： 7\n",
      "年龄数据异常值的最大值为： -1.0\n",
      "年龄数据异常值的最小值为： -5.0\n"
     ]
    }
   ],
   "source": [
    "# 代码 4-20\n",
    "import matplotlib.pyplot as plt\n",
    "plt.figure(figsize=(6, 4), dpi=300)\n",
    "p = plt.boxplot(list(all_info['年龄'].values))  # 画出箱线图\n",
    "outlier1 = p['fliers'][0].get_ydata()  # fliers为异常值的标签\n",
    "plt.savefig('./tmp/用户年龄异常数据识别.jpg')\n",
    "plt.show()\n",
    "print('年龄数据异常值个数为：', len(outlier1))\n",
    "print('年龄数据异常值的最大值为：', max(outlier1))\n",
    "print('年龄数据异常值的最小值为：', min(outlier1))"
   ]
  }
 ],
 "metadata": {
  "kernelspec": {
   "display_name": "Python 3.10.12 ('myenvironment')",
   "language": "python",
   "name": "python3"
  },
  "language_info": {
   "codemirror_mode": {
    "name": "ipython",
    "version": 3
   },
   "file_extension": ".py",
   "mimetype": "text/x-python",
   "name": "python",
   "nbconvert_exporter": "python",
   "pygments_lexer": "ipython3",
   "version": "3.10.12"
  },
  "orig_nbformat": 4,
  "vscode": {
   "interpreter": {
    "hash": "752244e9522ce7bff77f709c9fbfe6d48f384cad76934c97270b332f67d36b72"
   }
  }
 },
 "nbformat": 4,
 "nbformat_minor": 2
}
