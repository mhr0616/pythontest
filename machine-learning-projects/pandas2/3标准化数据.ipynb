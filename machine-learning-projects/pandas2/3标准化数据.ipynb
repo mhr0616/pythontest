{
 "cells": [
  {
   "cell_type": "markdown",
   "metadata": {},
   "source": [
    "# 标准化数据"
   ]
  },
  {
   "cell_type": "markdown",
   "metadata": {},
   "source": [
    "***"
   ]
  },
  {
   "cell_type": "markdown",
   "metadata": {},
   "source": [
    "离差标准化数据  \n",
    "标准差标准化数据  \n",
    "小数定标标准化数据  \n",
    "\n",
    "3种标准化方法各有其优势。  \n",
    "离差标准化方法简单，便于理解，标准化后的数据限定在[0,1]区间内。   \n",
    "标准差标准化受数据分布的影响较小。   \n",
    "小数定标标准化方法的适用范围广，并且受数据分布的影响较小，相比较于前两种方法，该方法适用程度适中。   \n"
   ]
  },
  {
   "cell_type": "code",
   "execution_count": 1,
   "metadata": {},
   "outputs": [
    {
     "name": "stdout",
     "output_type": "stream",
     "text": [
      "离差标准化之前每月支出数据为：\n",
      " 编号\n",
      "0    6807.50\n",
      "1    4780.45\n",
      "2    1959.00\n",
      "3    5011.06\n",
      "4    4557.21\n",
      "Name: 每月支出, dtype: float64\n",
      "离差标准化之后每月支出数据为\n",
      " 编号\n",
      "0    0.615543\n",
      "1    0.431867\n",
      "2    0.176208\n",
      "3    0.452763\n",
      "4    0.411638\n",
      "Name: 每月支出, dtype: float64\n"
     ]
    }
   ],
   "source": [
    "# 代码 4-21\n",
    "import pandas as pd\n",
    "pay = pd.read_csv('./data/user_pay_info.csv', index_col=0)\n",
    "# 自定义离差标准化函数\n",
    "def min_max_scale(data):\n",
    "    data = (data - data.min()) / (data.max() - data.min())\n",
    "    return data\n",
    "# 对用户每月支出信息表的每月支出数据做离差标准化\n",
    "pay_min_max = min_max_scale(pay['每月支出'])\n",
    "print('离差标准化之前每月支出数据为：\\n', pay['每月支出'].head())\n",
    "print('离差标准化之后每月支出数据为\\n', pay_min_max.head())"
   ]
  },
  {
   "cell_type": "code",
   "execution_count": 2,
   "metadata": {},
   "outputs": [
    {
     "name": "stdout",
     "output_type": "stream",
     "text": [
      "标准差标准化之前每月支出数据为：\n",
      " 编号\n",
      "0    6807.50\n",
      "1    4780.45\n",
      "2    1959.00\n",
      "3    5011.06\n",
      "4    4557.21\n",
      "Name: 每月支出, dtype: float64\n",
      "标准差标准化之后每月支出数据为：\n",
      " 编号\n",
      "0    1.004110\n",
      "1    0.003042\n",
      "2   -1.390344\n",
      "3    0.116930\n",
      "4   -0.107206\n",
      "Name: 每月支出, dtype: float64\n"
     ]
    }
   ],
   "source": [
    "\n",
    "# 代码 4-22\n",
    "# 自定义标准差标准化函数\n",
    "def standard_scaler(data):\n",
    "    data = (data - data.mean()) / data.std()\n",
    "    return data\n",
    "# 对用户每月支出信息表的每月支出数据做标准差标准化\n",
    "pay_standard = standard_scaler(pay['每月支出'])\n",
    "print('标准差标准化之前每月支出数据为：\\n', pay['每月支出'].head())\n",
    "print('标准差标准化之后每月支出数据为：\\n', pay_standard.head())"
   ]
  },
  {
   "cell_type": "code",
   "execution_count": 3,
   "metadata": {},
   "outputs": [
    {
     "name": "stdout",
     "output_type": "stream",
     "text": [
      "小数定标标准化之前的每月支出数据：\n",
      " 编号\n",
      "0    6807.50\n",
      "1    4780.45\n",
      "2    1959.00\n",
      "3    5011.06\n",
      "4    4557.21\n",
      "Name: 每月支出, dtype: float64\n",
      "小数定标标准化之后的每月支出数据：\n",
      " 编号\n",
      "0    0.068075\n",
      "1    0.047804\n",
      "2    0.019590\n",
      "3    0.050111\n",
      "4    0.045572\n",
      "Name: 每月支出, dtype: float64\n"
     ]
    }
   ],
   "source": [
    "# 代码 4-23\n",
    "# 自定义小数定标标准化函数\n",
    "import numpy as np\n",
    "def decimal_scaler(data):\n",
    "    data = data / 10 ** np.ceil(np.log10(data.abs().max()))\n",
    "    return data\n",
    "# 对用户每月支出信息表的每月支出数据做小数定标标准化\n",
    "pay_decimal = decimal_scaler(pay['每月支出'])\n",
    "print('小数定标标准化之前的每月支出数据：\\n', pay['每月支出'].head())\n",
    "print('小数定标标准化之后的每月支出数据：\\n', pay_decimal.head())"
   ]
  }
 ],
 "metadata": {
  "kernelspec": {
   "display_name": "Python 3.10.12 ('myenvironment')",
   "language": "python",
   "name": "python3"
  },
  "language_info": {
   "codemirror_mode": {
    "name": "ipython",
    "version": 3
   },
   "file_extension": ".py",
   "mimetype": "text/x-python",
   "name": "python",
   "nbconvert_exporter": "python",
   "pygments_lexer": "ipython3",
   "version": "3.10.12"
  },
  "orig_nbformat": 4,
  "vscode": {
   "interpreter": {
    "hash": "752244e9522ce7bff77f709c9fbfe6d48f384cad76934c97270b332f67d36b72"
   }
  }
 },
 "nbformat": 4,
 "nbformat_minor": 2
}
