{
 "cells": [
  {
   "cell_type": "markdown",
   "metadata": {},
   "source": [
    "#  音乐信息其他分组函数作业"
   ]
  },
  {
   "cell_type": "markdown",
   "metadata": {},
   "source": [
    "1.采用pandas  读取csv中数据  \n",
    "2.按照format字段进行分类汇总，分组后的保留'format', 'metric', 'value_actual'等几个字段    \n",
    "3.使用appy求音乐行业销售数量信息表分组后前4组每组的均值  \n",
    "4.使用appy求音乐行业销售数量信息表分组后前4组每组的方差  \n",
    "5.音乐行业收入信息表销售价格的三倍  \n",
    "   "
   ]
  },
  {
   "cell_type": "markdown",
   "metadata": {},
   "source": [
    "***"
   ]
  },
  {
   "cell_type": "markdown",
   "metadata": {},
   "source": [
    "音乐信息分类汇总"
   ]
  },
  {
   "cell_type": "markdown",
   "metadata": {},
   "source": [
    "1.采用pandas  读取csv中数据"
   ]
  },
  {
   "cell_type": "code",
   "execution_count": 2,
   "metadata": {},
   "outputs": [],
   "source": [
    "# 代码3-41\n",
    "import pandas as pd\n",
    "import numpy as np\n",
    "\n",
    "# 读取CSV文件并将非数值数据转换为NaN值\n",
    "musicdata = pd.read_csv('./data/musicdata.csv', dtype={'value_actual': float,'number_of_records':float})\n",
    "#数据预处理  value_actual中非数值数据改成none，\n",
    "musicdata['value_actual'] = pd.to_numeric(musicdata['value_actual'], errors='coerce')\n",
    "#输出包含none的数据。\n",
    "musicdata.dropna(subset=['value_actual'], inplace=True)\n",
    "\n",
    "musicdataGroup = musicdata[['format', 'metric', 'number_of_records','value_actual']].groupby(by='format')\n",
    "\n",
    "\n",
    "#print('分组后的音乐行业收入信息表为:', list(musicdataGroup))\n"
   ]
  },
  {
   "cell_type": "code",
   "execution_count": 1,
   "metadata": {},
   "outputs": [
    {
     "ename": "NameError",
     "evalue": "name 'musicdataGroup' is not defined",
     "output_type": "error",
     "traceback": [
      "\u001b[1;31m---------------------------------------------------------------------------\u001b[0m",
      "\u001b[1;31mNameError\u001b[0m                                 Traceback (most recent call last)",
      "Cell \u001b[1;32mIn[1], line 3\u001b[0m\n\u001b[0;32m      1\u001b[0m \u001b[38;5;66;03m# 代码3-51\u001b[39;00m\n\u001b[0;32m      2\u001b[0m \u001b[38;5;28mprint\u001b[39m(\u001b[38;5;124m'\u001b[39m\u001b[38;5;124m音乐行业收入信息表分组后前4组每组的均值为：\u001b[39m\u001b[38;5;124m'\u001b[39m,\u001b[38;5;124m'\u001b[39m\u001b[38;5;130;01m\\n\u001b[39;00m\u001b[38;5;124m'\u001b[39m, \n\u001b[1;32m----> 3\u001b[0m       \u001b[43mmusicdataGroup\u001b[49m[[\u001b[38;5;124m'\u001b[39m\u001b[38;5;124mnumber_of_records\u001b[39m\u001b[38;5;124m'\u001b[39m]]\u001b[38;5;241m.\u001b[39mapply(np\u001b[38;5;241m.\u001b[39mmean)\u001b[38;5;241m.\u001b[39mhead(\u001b[38;5;241m4\u001b[39m))\n\u001b[0;32m      5\u001b[0m \u001b[38;5;28mprint\u001b[39m(\u001b[38;5;124m'\u001b[39m\u001b[38;5;124m音乐行业收入信息表分组后前4组每组的标准差为：\u001b[39m\u001b[38;5;124m'\u001b[39m,\u001b[38;5;124m'\u001b[39m\u001b[38;5;130;01m\\n\u001b[39;00m\u001b[38;5;124m'\u001b[39m, \n\u001b[0;32m      6\u001b[0m       musicdataGroup[[\u001b[38;5;124m'\u001b[39m\u001b[38;5;124mnumber_of_records\u001b[39m\u001b[38;5;124m'\u001b[39m]]\u001b[38;5;241m.\u001b[39mapply(np\u001b[38;5;241m.\u001b[39mstd)\u001b[38;5;241m.\u001b[39mhead(\u001b[38;5;241m4\u001b[39m))\n",
      "\u001b[1;31mNameError\u001b[0m: name 'musicdataGroup' is not defined"
     ]
    }
   ],
   "source": [
    "# 代码3-51\n",
    "print('音乐行业收入信息表分组后前4组每组的均值为：','\\n', \n",
    "      musicdataGroup[['number_of_records']].apply(np.mean).head(4))\n",
    "\n",
    "print('音乐行业收入信息表分组后前4组每组的标准差为：','\\n', \n",
    "      musicdataGroup[['number_of_records']].apply(np.std).head(4))"
   ]
  },
  {
   "cell_type": "code",
   "execution_count": 10,
   "metadata": {},
   "outputs": [
    {
     "name": "stdout",
     "output_type": "stream",
     "text": [
      "音乐行业收入信息表销售数量和销售价格的两倍为：\n",
      "     number_of_records  value_actual\n",
      "10                2.0           1.6\n",
      "11                2.0          11.6\n",
      "12                2.0          45.2\n",
      "13                2.0         106.0\n"
     ]
    }
   ],
   "source": [
    "# 代码3-52\n",
    "print('音乐行业收入信息表销售数量和销售价格的两倍为：\\n',\n",
    "      musicdata[['number_of_records', 'value_actual']].transform(\n",
    "            lambda x: x * 3).head(4))"
   ]
  }
 ],
 "metadata": {
  "kernelspec": {
   "display_name": "Python 3.10.12 ('myenvironment')",
   "language": "python",
   "name": "python3"
  },
  "language_info": {
   "codemirror_mode": {
    "name": "ipython",
    "version": 3
   },
   "file_extension": ".py",
   "mimetype": "text/x-python",
   "name": "python",
   "nbconvert_exporter": "python",
   "pygments_lexer": "ipython3",
   "version": "3.10.12"
  },
  "orig_nbformat": 4,
  "vscode": {
   "interpreter": {
    "hash": "752244e9522ce7bff77f709c9fbfe6d48f384cad76934c97270b332f67d36b72"
   }
  }
 },
 "nbformat": 4,
 "nbformat_minor": 2
}
