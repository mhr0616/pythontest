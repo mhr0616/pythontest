{
 "cells": [
  {
   "cell_type": "markdown",
   "metadata": {},
   "source": [
    "# pandas能干啥\n",
    "\n",
    "Pandas擅长处理数据。你可以通过Pandas对数据进行清洗、转换和分析。\n",
    "\n",
    "例如，如果你工作上有Excel数据文件或是以CSV存储的文本文件，Pandas都可以从中提取数据并生成DataFrame格式的表格，然后，你就可以进行以下操作了。"
   ]
  },
  {
   "cell_type": "markdown",
   "metadata": {},
   "source": [
    "panda主要功能列举：  \n",
    "\n",
    "1.统计\n",
    "\n",
    "    每列的最大数、最小数、平均数和中位数\n",
    "    A列和B列的相关性\n",
    "    C列数据的分布是什么样的\n",
    "    \n",
    "2.清除数据\n",
    "\n",
    "3.在Matplotlib的帮助下绘制条形图、直方图或其他可视图形\n",
    "\n",
    "4.将处理完的数据存储回Excel或CSV文件"
   ]
  },
  {
   "cell_type": "markdown",
   "metadata": {},
   "source": [
    "Pandas是建立在NumPy的基础上的，这就意味着NumPy的诸多结构都可以直接在Pandas中使用。Pandas的数据也可以直接用于SciPy中进行统计分析，Matplotlib中的绘图功能和Scikit-learn中的机器学习算法数据皆来源于Pandas。"
   ]
  },
  {
   "cell_type": "markdown",
   "metadata": {},
   "source": [
    "##  pandas的核心组成部分\n",
    "\n",
    "Pandas主要有两部分组成，分别是Series和DataFrame。\n",
    "\n",
    "Series的本质是只有一列的数据表，而DataFrame是由多个Series组合在一起的多维表。"
   ]
  },
  {
   "cell_type": "markdown",
   "metadata": {},
   "source": [
    "Series（一维数据）是一种类似于一维数组的对象，是由一组数据（各种NumPy数据类型）以及一组与之相关的数据标签（即索引）组成，而仅由一组数据也可产生简单的Series对象。   \n",
    "\n",
    "DataFrame是pandas中的一个表格型的数据结构，包含有一组有序的列，每列可以是不同的值类型（数值、字符串、布尔型等），   DataFrame既有行索引也有列索引，可以被看做是由Series组成的字典。   \n",
    "\n"
   ]
  },
  {
   "cell_type": "markdown",
   "metadata": {},
   "source": [
    "安装pandas"
   ]
  },
  {
   "cell_type": "code",
   "execution_count": 8,
   "metadata": {},
   "outputs": [
    {
     "name": "stdout",
     "output_type": "stream",
     "text": [
      "Collecting package metadata (current_repodata.json): ...working... done\n",
      "Solving environment: ...working... done\n",
      "\n",
      "## Package Plan ##\n",
      "\n",
      "  environment location: d:\\tool\\anaconda3\\envs\\myenvironment\n",
      "\n",
      "  added / updated specs:\n",
      "    - pandas\n",
      "\n",
      "\n",
      "The following packages will be downloaded:\n",
      "\n",
      "    package                    |            build\n",
      "    ---------------------------|-----------------\n",
      "    ca-certificates-2023.08.22 |       haa95532_0         123 KB  http://mirrors.tuna.tsinghua.edu.cn/anaconda/pkgs/main\n",
      "    ------------------------------------------------------------\n",
      "                                           Total:         123 KB\n",
      "\n",
      "The following packages will be UPDATED:\n",
      "\n",
      "  ca-certificates                     2023.05.30-haa95532_0 --> 2023.08.22-haa95532_0 \n",
      "\n",
      "\n",
      "\n",
      "Downloading and Extracting Packages\n",
      "\n",
      "ca-certificates-2023 | 123 KB    |            |   0% \n",
      "ca-certificates-2023 | 123 KB    | #2         |  13% \n",
      "ca-certificates-2023 | 123 KB    | ########## | 100% \n",
      "ca-certificates-2023 | 123 KB    | ########## | 100% \n",
      "                                                     \n",
      "\n",
      "\n",
      "Preparing transaction: ...working... done\n",
      "Verifying transaction: ...working... done\n",
      "Executing transaction: ...working... done\n",
      "\n",
      "Note: you may need to restart the kernel to use updated packages.\n"
     ]
    }
   ],
   "source": [
    "%conda install pandas"
   ]
  },
  {
   "cell_type": "markdown",
   "metadata": {},
   "source": [
    "     CSV是一种用分隔符分隔的文件格式，因为其分隔符不一定是逗号，所以又被称为字符分隔文件。 \n",
    "\n",
    "文本文件以纯文本形式存储表格数据（数字和文本），它是一种通用、相对简单的文件格式，最广泛的应用是在程序之间转移表格数据，而这些程序本身是在不兼容的格式上进行操作的（往往是私有的、无规范的格式）。  \n",
    "\n",
    "大量程序都支持CSV或其变体，所以CSV或其变体可以作为大多数程序的输入和输出格式。\n",
    "\n",
    "CSV文件根据其定义也是一种文本文件。在数据读取过程中可以使用文本文件的读取函数对CSV文件进行读取。同时，如果文本文件是字符分隔文件，那么可以使用读取CSV文件的函数进行读取。\n",
    "\n",
    "pandas提供了read_table()函数读取文本文件，提供了read_csv()函数读取CSV文件。\n",
    "\n",
    "\n"
   ]
  },
  {
   "cell_type": "markdown",
   "metadata": {},
   "source": [
    "## 读文件"
   ]
  },
  {
   "cell_type": "markdown",
   "metadata": {},
   "source": [
    "     read_table()函数和read_csv()函数的多数参数相同，它们的常用参数及其说明如下表。\n",
    "\n",
    "pandas.read_table(filepath_or_buffer, sep=<no_default>, header='infer', names=<no_default>, index_col=None, dtype=None,  engine=None, nrows=None, skiprows=None)\n",
    "\n",
    "pandas.read_csv(filepath_or_buffer, sep=<no_default>, header='infer', names=<no_default>, index_col=None, dtype=None,  engine=None, nrows=None, skiprows=None)\n"
   ]
  },
  {
   "cell_type": "markdown",
   "metadata": {},
   "source": [
    "filepath：接收str。表示文件路径。无默认值   \n",
    "sep：接收str。表示分隔符。read_csv函数默认为“,”，read_table函数默认为制表符“Tab”   \n",
    "names：接收array。表示列名。无默认值   "
   ]
  },
  {
   "cell_type": "code",
   "execution_count": 3,
   "metadata": {},
   "outputs": [
    {
     "name": "stdout",
     "output_type": "stream",
     "text": [
      "使用read_table函数读取音乐行业收入信息表的长度为： 3008\n",
      "使用read_csv函数读取音乐行业收入信息表的长度为： 3008\n"
     ]
    }
   ],
   "source": [
    "# 代码3-1\n",
    "import pandas as pd\n",
    "# 使用read_table函数读取音乐行业收入信息表\n",
    "musicdata = pd.read_table('./data/musicdata.csv', sep=',', encoding='gbk')\n",
    "print('使用read_table函数读取音乐行业收入信息表的长度为：', len(musicdata))\n",
    "\n",
    "# 使用read_csv函数读取音乐行业收入信息表\n",
    "musicdata1 = pd.read_csv('./data/musicdata.csv', encoding='gbk')\n",
    "print('使用read_csv函数读取音乐行业收入信息表的长度为：', len(musicdata1))"
   ]
  },
  {
   "cell_type": "code",
   "execution_count": 7,
   "metadata": {},
   "outputs": [
    {
     "name": "stdout",
     "output_type": "stream",
     "text": [
      "当分隔符为;时，音乐行业收入信息表为：\n",
      "       format,metric,date,number_of_records,value_actual\n",
      "0                           CD,Units,2020/7/31 22:01,1,\n",
      "1                            CD,Units,2020/7/23 6:12,1,\n",
      "2                            CD,Units,2020/7/13 9:30,1,\n",
      "3                           CD,Units,2020/6/30 14:26,1,\n",
      "4                           CD,Units,2020/6/23 20:21,1,\n",
      "...                                                 ...\n",
      "3003  Vinyl Single,Value (Adjusted),2013/12/8 3:10,1...\n",
      "3004  Vinyl Single,Value (Adjusted),2013/11/21 1:50,...\n",
      "3005  Vinyl Single,Value (Adjusted),2013/10/12 16:06...\n",
      "3006  Vinyl Single,Value (Adjusted),2013/10/9 17:27,...\n",
      "3007  Vinyl Single,Value (Adjusted),2013/9/24 15:31,...\n",
      "\n",
      "[3008 rows x 1 columns]\n",
      "当header为None时，音乐行业收入数据信息表为：\n",
      "                  0                 1                 2                  3  \\\n",
      "0           format            metric              date  number_of_records   \n",
      "1               CD             Units   2020/7/31 22:01                  1   \n",
      "2               CD             Units    2020/7/23 6:12                  1   \n",
      "3               CD             Units    2020/7/13 9:30                  1   \n",
      "4               CD             Units   2020/6/30 14:26                  1   \n",
      "...            ...               ...               ...                ...   \n",
      "3004  Vinyl Single  Value (Adjusted)    2013/12/8 3:10                  1   \n",
      "3005  Vinyl Single  Value (Adjusted)   2013/11/21 1:50                  1   \n",
      "3006  Vinyl Single  Value (Adjusted)  2013/10/12 16:06                  1   \n",
      "3007  Vinyl Single  Value (Adjusted)   2013/10/9 17:27                  1   \n",
      "3008  Vinyl Single  Value (Adjusted)   2013/9/24 15:31                  1   \n",
      "\n",
      "                 4  \n",
      "0     value_actual  \n",
      "1              NaN  \n",
      "2              NaN  \n",
      "3              NaN  \n",
      "4              NaN  \n",
      "...            ...  \n",
      "3004   6.205390253  \n",
      "3005   5.198931395  \n",
      "3006    6.33967756  \n",
      "3007   5.386196747  \n",
      "3008   6.795945687  \n",
      "\n",
      "[3009 rows x 5 columns]\n"
     ]
    }
   ],
   "source": [
    "# 代码3-2\n",
    "# 使用read_table函数读取音乐行业收入表，sep=';'\n",
    "musicdata2 = pd.read_table('./data/musicdata.csv', sep = ';', encoding='gbk')\n",
    "print('当分隔符为;时，音乐行业收入信息表为：\\n', musicdata2)\n",
    "\n",
    "# 使用read_csv函数读取音乐行业收入信息表，header=None\n",
    "musicdata3 = pd.read_csv('./data/musicdata.csv', sep=',', header=None, encoding='gbk')\n",
    "print('当header为None时，音乐行业收入数据信息表为：\\n', musicdata3)"
   ]
  },
  {
   "cell_type": "markdown",
   "metadata": {},
   "source": [
    "## 写文档"
   ]
  },
  {
   "cell_type": "markdown",
   "metadata": {},
   "source": [
    "to_csv()函数  写文件操作。\n",
    "\n",
    "filepath：接收str。表示文件路径。无默认值   \n",
    "sep：接收str。表示分隔符。read_csv函数默认为“,”，read_table函数默认为制表符“Tab”   \n",
    "index：是否显示列序号\n",
    "\n",
    "\n",
    "DataFrame.to_csv(path_or_buf=None, sep=',', na_rep='', float_format=None, columns=None, header=True, index=True, index_label=None, mode='w', encoding=None, compression='infer', quoting=None, quotechar='\"', line_terminator=None, chunksize=None, date_format=None, doublequote=True, escapechar=None, decimal='.', errors='strict')"
   ]
  },
  {
   "cell_type": "code",
   "execution_count": 11,
   "metadata": {},
   "outputs": [
    {
     "name": "stdout",
     "output_type": "stream",
     "text": [
      "音乐行业收入信息表写入文本文件前目录内文件列表为：\n",
      " ['musicdata.csv', 'musicdata.sql', 'musicdata.xlsx']\n",
      "音乐行业收入信息表写入文本文件后目录内文件列表为：\n",
      " ['musicdata.csv', 'musicdata.sql', 'musicdata.xlsx', 'musicdataInfo.csv']\n"
     ]
    }
   ],
   "source": [
    "# 代码3-3\n",
    "import os\n",
    "print('音乐行业收入信息表写入文本文件前目录内文件列表为：\\n', os.listdir('./data')) \n",
    "# 将musicdata以csv格式存储\n",
    "musicdata.to_csv('./data/musicdataInfo.csv', sep=';', index=False) \n",
    "print('音乐行业收入信息表写入文本文件后目录内文件列表为：\\n', os.listdir('./data'))"
   ]
  },
  {
   "cell_type": "markdown",
   "metadata": {},
   "source": [
    "# read_excel写excel文件"
   ]
  },
  {
   "cell_type": "code",
   "execution_count": 14,
   "metadata": {},
   "outputs": [
    {
     "name": "stdout",
     "output_type": "stream",
     "text": [
      "Looking in indexes: https://mirrors.aliyun.com/pypi/simple/\n",
      "Requirement already satisfied: openpyxl in d:\\tool\\anaconda3\\envs\\myenvironment\\lib\\site-packages (3.1.2)\n",
      "Requirement already satisfied: et-xmlfile in d:\\tool\\anaconda3\\envs\\myenvironment\\lib\\site-packages (from openpyxl) (1.1.0)\n",
      "Note: you may need to restart the kernel to use updated packages.\n"
     ]
    }
   ],
   "source": [
    "%conda  install openpyxl"
   ]
  },
  {
   "cell_type": "code",
   "execution_count": 15,
   "metadata": {},
   "outputs": [
    {
     "name": "stdout",
     "output_type": "stream",
     "text": [
      "音乐行业收入信息表长度为： 3008\n"
     ]
    }
   ],
   "source": [
    "# 代码3-4\n",
    "# 读取musicdata.xlsx文件\n",
    "musicdata = pd.read_excel('./data/musicdata.xlsx')\n",
    "print('音乐行业收入信息表长度为：', len(musicdata))"
   ]
  },
  {
   "cell_type": "code",
   "execution_count": 16,
   "metadata": {},
   "outputs": [
    {
     "name": "stdout",
     "output_type": "stream",
     "text": [
      "音乐行业收入信息表写入Excel文件前，目录内文件列表为：\n",
      " ['musicdata.csv', 'musicdata.sql', 'musicdata.xlsx', 'musicdataInfo.csv']\n",
      "音乐行业收入信息表写入Excel文件后，目录内文件列表为：\n",
      " ['musicdata.csv', 'musicdata.sql', 'musicdata.xlsx', 'musicdataInfo.csv']\n"
     ]
    }
   ],
   "source": [
    "# 代码3-5\n",
    "print('音乐行业收入信息表写入Excel文件前，目录内文件列表为：\\n', os.listdir('./data')) \n",
    "musicdata.to_excel('./data/musicdata.xlsx')\n",
    "print('音乐行业收入信息表写入Excel文件后，目录内文件列表为：\\n', os.listdir('./data'))"
   ]
  }
 ],
 "metadata": {
  "kernelspec": {
   "display_name": "Python 3.10.12 ('myenvironment')",
   "language": "python",
   "name": "python3"
  },
  "language_info": {
   "codemirror_mode": {
    "name": "ipython",
    "version": 3
   },
   "file_extension": ".py",
   "mimetype": "text/x-python",
   "name": "python",
   "nbconvert_exporter": "python",
   "pygments_lexer": "ipython3",
   "version": "3.10.12"
  },
  "orig_nbformat": 4,
  "vscode": {
   "interpreter": {
    "hash": "752244e9522ce7bff77f709c9fbfe6d48f384cad76934c97270b332f67d36b72"
   }
  }
 },
 "nbformat": 4,
 "nbformat_minor": 2
}
