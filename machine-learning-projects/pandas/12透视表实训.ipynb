{
 "cells": [
  {
   "cell_type": "markdown",
   "metadata": {},
   "source": [
    "## 利用pandas提供的crosstab函数可以制作交叉表。\n"
   ]
  },
  {
   "cell_type": "markdown",
   "metadata": {},
   "source": [
    "***\n",
    "作业  \n",
    "1.读取/data/musicdata.csv目录下的数据  \n",
    "2.显示'format', 'number_of_records', 'value_actual'，以以foramt作为分组键创建的订单透视表"
   ]
  },
  {
   "cell_type": "code",
   "execution_count": 2,
   "metadata": {},
   "outputs": [
    {
     "name": "stdout",
     "output_type": "stream",
     "text": [
      "以foramt作为分组键创建的订单透视表为：\n",
      "                                     number_of_records  value_actual\n",
      "format                                                             \n",
      "8 - Track                                           1    511.177231\n",
      "CD                                                  1   4733.432621\n",
      "CD Single                                           1     45.346843\n",
      "Cassette                                            1   1403.643775\n",
      "Cassette Single                                     1    126.793441\n",
      "DVD Audio                                           1      2.699240\n",
      "Download Album                                      1    523.063861\n",
      "Download Music Video                                1     16.108696\n",
      "Download Single                                     1    956.128235\n",
      "Kiosk                                               1      2.843023\n",
      "LP/EP                                               1    905.310691\n",
      "Limited Tier Paid Subscription                      1    614.897193\n",
      "Music Video (Physical)                              1    198.247984\n",
      "On-Demand Streaming (Ad-Supported)                  1    452.028121\n",
      "Other Ad-Supported Streaming                        1    214.019553\n",
      "Other Digital                                       1     19.121265\n",
      "Other Tapes                                         1      5.971933\n",
      "Paid Subscription                                   1   1417.139072\n",
      "Paid Subscriptions                                  1     12.118509\n",
      "Ringtones & Ringbacks                               1    299.985818\n",
      "SACD                                                1      3.602776\n",
      "SoundExchange Distributions                         1    447.869189\n",
      "Synchronization                                     1    224.290481\n",
      "Vinyl Single                                        1    156.419683\n"
     ]
    }
   ],
   "source": [
    "# 代码5-54\n",
    "import pandas as pd\n",
    "import numpy as np\n",
    "musicdata = pd.read_csv('./data/musicdata.csv')\n",
    "\n",
    "musicdataPivot = pd.pivot_table(musicdata[[\n",
    "      'format', 'number_of_records', 'value_actual']],\n",
    "      index='format')\n",
    "print('以foramt作为分组键创建的订单透视表为：\\n', musicdataPivot)"
   ]
  },
  {
   "cell_type": "code",
   "execution_count": 3,
   "metadata": {},
   "outputs": [
    {
     "name": "stdout",
     "output_type": "stream",
     "text": [
      "以format和metric为分组键value_actual为值的透视表前5行4列为：\n",
      " metric                  Units          Value  Value (Adjusted)\n",
      "format                                                        \n",
      "8 - Track          900.300000    5618.700000      23640.456658\n",
      "CD               14802.624448  205083.959093     305524.437339\n",
      "CD Single          357.718686    1549.562534       2446.015682\n",
      "Cassette          6194.300000   48701.700000     102312.102797\n",
      "Cassette Single    724.200000    2325.900000       4177.126130\n"
     ]
    }
   ],
   "source": [
    "# 代码3-61\n",
    "musicdataCross = pd.crosstab(index=musicdata['format'],\n",
    "      columns=musicdata['metric'],\n",
    "      values=musicdata['value_actual'], aggfunc = np.sum)\n",
    "print('以format和metric为分组键value_actual为值的透视表前5行4列为：\\n', \n",
    "      musicdataCross.iloc[:5, :4])"
   ]
  }
 ],
 "metadata": {
  "kernelspec": {
   "display_name": "Python 3.10.12 ('myenvironment')",
   "language": "python",
   "name": "python3"
  },
  "language_info": {
   "codemirror_mode": {
    "name": "ipython",
    "version": 3
   },
   "file_extension": ".py",
   "mimetype": "text/x-python",
   "name": "python",
   "nbconvert_exporter": "python",
   "pygments_lexer": "ipython3",
   "version": "3.10.12"
  },
  "orig_nbformat": 4,
  "vscode": {
   "interpreter": {
    "hash": "752244e9522ce7bff77f709c9fbfe6d48f384cad76934c97270b332f67d36b72"
   }
  }
 },
 "nbformat": 4,
 "nbformat_minor": 2
}
