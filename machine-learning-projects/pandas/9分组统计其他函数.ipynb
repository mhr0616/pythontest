{
 "cells": [
  {
   "cell_type": "markdown",
   "metadata": {},
   "source": [
    "# 音乐信息其他函数分组"
   ]
  },
  {
   "cell_type": "markdown",
   "metadata": {},
   "source": [
    "使用apply()方法聚合数据\n",
    "apply()方法的使用方式和agg()方法相同。  \n",
    "使用apply()方法对GroupBy对象进行聚合操作的方法和agg()方法也相同，但使用agg()方法能够实现对不同的特征应用不同的函数，而apply()方法则不行。  \n",
    "apply()方法的常用参数及其说明如下表。  \n",
    "\n",
    "   "
   ]
  },
  {
   "cell_type": "markdown",
   "metadata": {},
   "source": [
    "***"
   ]
  },
  {
   "cell_type": "markdown",
   "metadata": {},
   "source": [
    "音乐信息分类汇总"
   ]
  },
  {
   "cell_type": "markdown",
   "metadata": {},
   "source": [
    "1.采用pandas  读取csv中数据"
   ]
  },
  {
   "cell_type": "code",
   "execution_count": 4,
   "metadata": {},
   "outputs": [],
   "source": [
    "# 代码3-41\n",
    "import pandas as pd\n",
    "import numpy as np\n",
    "\n",
    "# 读取CSV文件并将非数值数据转换为NaN值\n",
    "musicdata = pd.read_csv('./data/musicdata.csv', dtype={'value_actual': float,'number_of_records':float})\n",
    "#数据预处理  value_actual中非数值数据改成none，\n",
    "musicdata['value_actual'] = pd.to_numeric(musicdata['value_actual'], errors='coerce')\n",
    "#输出包含none的数据。\n",
    "musicdata.dropna(subset=['value_actual'], inplace=True)\n",
    "\n",
    "musicdataGroup = musicdata[['format', 'metric', 'number_of_records','value_actual']].groupby(by='format')\n",
    "\n",
    "\n",
    "#print('分组后的音乐行业收入信息表为:', list(musicdataGroup))\n"
   ]
  },
  {
   "cell_type": "code",
   "execution_count": 9,
   "metadata": {},
   "outputs": [
    {
     "name": "stdout",
     "output_type": "stream",
     "text": [
      "音乐行业收入信息表分组后前3组每组的均值为： \n",
      " format\n",
      "8 - Track     511.177231\n",
      "CD           4733.432621\n",
      "CD Single      45.346843\n",
      "dtype: float64\n",
      "音乐行业收入信息表分组后前3组每组的标准差为： \n",
      "            value_actual  number_of_records\n",
      "format                                    \n",
      "8 - Track    976.033045                0.0\n",
      "CD          5620.048883                0.0\n",
      "CD Single     85.517803                0.0\n"
     ]
    }
   ],
   "source": [
    "# 代码3-51\n",
    "print('音乐行业收入信息表分组后前3组每组的均值为：','\\n', \n",
    "      musicdataGroup[['value_actual']].apply(np.mean).head(3))\n",
    "\n",
    "print('音乐行业收入信息表分组后前3组每组的标准差为：','\\n', \n",
    "      musicdataGroup[['value_actual','number_of_records']].apply(np.std).head(3))"
   ]
  },
  {
   "cell_type": "markdown",
   "metadata": {},
   "source": [
    "***\n",
    "transform()方法能够对整个DataFrame的所有元素进行操作，其基本使用格式如下。\n"
   ]
  },
  {
   "cell_type": "markdown",
   "metadata": {},
   "source": [
    "lambda x 表达式"
   ]
  },
  {
   "cell_type": "code",
   "execution_count": 10,
   "metadata": {},
   "outputs": [
    {
     "name": "stdout",
     "output_type": "stream",
     "text": [
      "音乐行业收入信息表销售数量和销售价格的两倍为：\n",
      "     number_of_records  value_actual\n",
      "10                2.0           1.6\n",
      "11                2.0          11.6\n",
      "12                2.0          45.2\n",
      "13                2.0         106.0\n"
     ]
    }
   ],
   "source": [
    "# 代码3-52\n",
    "print('音乐行业收入信息表销售数量和销售价格的两倍为：\\n',\n",
    "      musicdata[['number_of_records', 'value_actual']].transform(\n",
    "            lambda x: x * 2).head(4))"
   ]
  },
  {
   "cell_type": "code",
   "execution_count": 12,
   "metadata": {},
   "outputs": [
    {
     "name": "stdout",
     "output_type": "stream",
     "text": [
      "音乐行业收入信息表分组后实现组内离差标准化后前5行为：\n",
      " 10    0.240644\n",
      "11    0.240644\n",
      "12    0.240644\n",
      "13    0.240644\n",
      "14    0.240644\n",
      "Name: value_actual, dtype: float64\n"
     ]
    }
   ],
   "source": [
    "# 代码3-53\n",
    "print('音乐行业收入信息表分组后实现组内离差标准化后前5行为：\\n', \n",
    "      musicdataGroup['value_actual'].transform(lambda x: (x.mean()\n",
    "             - x.min()) / (x.max() - x.min())).head())"
   ]
  }
 ],
 "metadata": {
  "kernelspec": {
   "display_name": "Python 3.10.12 ('myenvironment')",
   "language": "python",
   "name": "python3"
  },
  "language_info": {
   "codemirror_mode": {
    "name": "ipython",
    "version": 3
   },
   "file_extension": ".py",
   "mimetype": "text/x-python",
   "name": "python",
   "nbconvert_exporter": "python",
   "pygments_lexer": "ipython3",
   "version": "3.10.12"
  },
  "orig_nbformat": 4,
  "vscode": {
   "interpreter": {
    "hash": "752244e9522ce7bff77f709c9fbfe6d48f384cad76934c97270b332f67d36b72"
   }
  }
 },
 "nbformat": 4,
 "nbformat_minor": 2
}
