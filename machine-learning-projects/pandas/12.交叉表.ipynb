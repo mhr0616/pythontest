{
 "cells": [
  {
   "cell_type": "markdown",
   "metadata": {},
   "source": [
    "# 什么是交叉表？\n",
    "\n",
    "交叉表（Crosstab）是数据分析中一种常见的数据透视表，用于展示两个或多个分类变量之间的频率分布关系。在Python的数据处理库Pandas中，我们可以使用pd.crosstab()函数来轻松地创建交叉表，帮助我们快速了解数据中各个分类变量之间的交叉统计情况。\n",
    "\n",
    "## 交叉表是一种特殊的透视表，主要用于计算分组频率。利用pandas提供的crosstab函数可以制作交叉表。\n",
    "\n",
    "参考资料：https://blog.csdn.net/qq_66726657/article/details/132420867?utm_medium=distribute.pc_relevant.none-task-blog-2~default~baidujs_baidulandingword~default-0-132420867-blog-105974775.235^v38^pc_relevant_sort_base3&spm=1001.2101.3001.4242.1&utm_relevant_index=3\n"
   ]
  },
  {
   "cell_type": "markdown",
   "metadata": {},
   "source": [
    "假设您有一个包含以下字段的数据集：用户ID、购买时间、购买商品类别。我们可以使用这个数据集来分析不同用户在不同时间段购买不同商品类别的频率分布情况。   \n",
    "\n",
    "用户ID\t购买时间\t购买商品类别   \n",
    "1\t2023-07-01\t食品   \n",
    "1\t2023-07-02\t饮料   \n",
    "2\t2023-07-01\t饮料   \n",
    "3\t2023-07-02\t食品   \n",
    "3\t2023-07-02\t饮料    \n",
    "…\t…\t…    \n",
    "我们将使用这个数据集进行交叉表分析，以便了解不同用户在不同时间段购买不同商品类别的频率分布情况。  \n"
   ]
  },
  {
   "cell_type": "code",
   "execution_count": 1,
   "metadata": {},
   "outputs": [
    {
     "name": "stdout",
     "output_type": "stream",
     "text": [
      "购买商品类别  食品  饮料\n",
      "用户ID          \n",
      "1        1   1\n",
      "2        0   1\n",
      "3        1   1\n"
     ]
    }
   ],
   "source": [
    "import pandas as pd\n",
    "\n",
    "# 创建DataFrame\n",
    "data = {\n",
    "    \"用户ID\": [1, 1, 2, 3, 3],\n",
    "    \"购买时间\": [\"2023-07-01\", \"2023-07-02\", \"2023-07-01\", \"2023-07-02\", \"2023-07-02\"],\n",
    "    \"购买商品类别\": [\"食品\", \"饮料\", \"饮料\", \"食品\", \"饮料\"]\n",
    "}\n",
    "\n",
    "\n",
    "df = pd.DataFrame(data)\n",
    "\n",
    "# 创建交叉表\n",
    "crosstab_table = pd.crosstab(df[\"用户ID\"], df[\"购买商品类别\"])\n",
    "\n",
    "# 打印交叉表\n",
    "print(crosstab_table)\n"
   ]
  }
 ],
 "metadata": {
  "kernelspec": {
   "display_name": "Python 3.10.12 ('myenvironment')",
   "language": "python",
   "name": "python3"
  },
  "language_info": {
   "codemirror_mode": {
    "name": "ipython",
    "version": 3
   },
   "file_extension": ".py",
   "mimetype": "text/x-python",
   "name": "python",
   "nbconvert_exporter": "python",
   "pygments_lexer": "ipython3",
   "version": "3.10.12"
  },
  "orig_nbformat": 4,
  "vscode": {
   "interpreter": {
    "hash": "752244e9522ce7bff77f709c9fbfe6d48f384cad76934c97270b332f67d36b72"
   }
  }
 },
 "nbformat": 4,
 "nbformat_minor": 2
}
