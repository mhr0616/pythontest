{
 "cells": [
  {
   "cell_type": "markdown",
   "metadata": {},
   "source": [
    "# 使用pivot_table()函数创建透视表\n",
    "\n",
    "    透视表是各种电子表格和其他数据分析软件中一种常见的数据汇总形式，可根据一个或多个建对数据进行聚和，\n",
    "    并根据行或列的分组键将数据划分到各个区域。利用pivot_table函数可以实现创建透视表。\n",
    "\n",
    "    DataFrame.pivot_table(values=None, index=None, columns=None, aggfunc='mean', fill_value=None, margins=False, dropna=True, margins_name='All', observed=False)\n",
    "![本地路径](.\\\\pics\\\\2.png \"相对路径演示,下一级目录\")"
   ]
  },
  {
   "cell_type": "markdown",
   "metadata": {},
   "source": [
    "参考内容：https://zhuanlan.zhihu.com/p/77179400"
   ]
  }
 ],
 "metadata": {
  "kernelspec": {
   "display_name": "Python 3.10.12 ('myenvironment')",
   "language": "python",
   "name": "python3"
  },
  "language_info": {
   "name": "python",
   "version": "3.10.12"
  },
  "orig_nbformat": 4,
  "vscode": {
   "interpreter": {
    "hash": "752244e9522ce7bff77f709c9fbfe6d48f384cad76934c97270b332f67d36b72"
   }
  }
 },
 "nbformat": 4,
 "nbformat_minor": 2
}
