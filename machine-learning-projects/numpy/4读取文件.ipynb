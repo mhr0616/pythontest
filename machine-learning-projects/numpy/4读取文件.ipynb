{
 "cells": [
  {
   "cell_type": "markdown",
   "metadata": {},
   "source": [
    "# 利用Numpy进行统计分析"
   ]
  },
  {
   "cell_type": "markdown",
   "metadata": {},
   "source": [
    "### save以二进制形式保存文件"
   ]
  },
  {
   "cell_type": "code",
   "execution_count": 3,
   "metadata": {},
   "outputs": [
    {
     "name": "stdout",
     "output_type": "stream",
     "text": [
      "保存的数组为：\n",
      " [[ 0  1  2  3  4  5  6  7  8  9]\n",
      " [10 11 12 13 14 15 16 17 18 19]\n",
      " [20 21 22 23 24 25 26 27 28 29]\n",
      " [30 31 32 33 34 35 36 37 38 39]\n",
      " [40 41 42 43 44 45 46 47 48 49]\n",
      " [50 51 52 53 54 55 56 57 58 59]\n",
      " [60 61 62 63 64 65 66 67 68 69]\n",
      " [70 71 72 73 74 75 76 77 78 79]\n",
      " [80 81 82 83 84 85 86 87 88 89]\n",
      " [90 91 92 93 94 95 96 97 98 99]]\n"
     ]
    }
   ],
   "source": [
    "# 代码 2-39\n",
    "import numpy as np  # 导入NumPy库\n",
    "arr = np.arange(100).reshape(10, 10)  # 创建一个数组\n",
    "np.save('./data/save_arr', arr)  # 保存数组\n",
    "print('保存的数组为：\\n', arr)"
   ]
  },
  {
   "cell_type": "markdown",
   "metadata": {},
   "source": [
    "保存多个数组"
   ]
  },
  {
   "cell_type": "code",
   "execution_count": 4,
   "metadata": {},
   "outputs": [
    {
     "name": "stdout",
     "output_type": "stream",
     "text": [
      "保存的数组1为： [[1 2 3]\n",
      " [4 5 6]]\n",
      "保存的数组2为： [0.  0.1 0.2 0.3 0.4 0.5 0.6 0.7 0.8 0.9]\n"
     ]
    }
   ],
   "source": [
    "# 代码 2-40\n",
    "arr1 = np.array([[1, 2, 3], [4, 5, 6]])\n",
    "arr2 = np.arange(0, 1.0, 0.1)\n",
    "np.savez('./data/savez_arr', arr1, arr2)\n",
    "print('保存的数组1为：', arr1)\n",
    "print('保存的数组2为：', arr2)"
   ]
  },
  {
   "cell_type": "markdown",
   "metadata": {},
   "source": [
    "***"
   ]
  },
  {
   "cell_type": "markdown",
   "metadata": {},
   "source": [
    "### load 二进制文件读取"
   ]
  },
  {
   "cell_type": "code",
   "execution_count": 6,
   "metadata": {},
   "outputs": [
    {
     "name": "stdout",
     "output_type": "stream",
     "text": [
      "读取的数组为：\n",
      " [[ 0  1  2  3  4  5  6  7  8  9]\n",
      " [10 11 12 13 14 15 16 17 18 19]\n",
      " [20 21 22 23 24 25 26 27 28 29]\n",
      " [30 31 32 33 34 35 36 37 38 39]\n",
      " [40 41 42 43 44 45 46 47 48 49]\n",
      " [50 51 52 53 54 55 56 57 58 59]\n",
      " [60 61 62 63 64 65 66 67 68 69]\n",
      " [70 71 72 73 74 75 76 77 78 79]\n",
      " [80 81 82 83 84 85 86 87 88 89]\n",
      " [90 91 92 93 94 95 96 97 98 99]]\n",
      "读取的数组1为：\n",
      " [[1 2 3]\n",
      " [4 5 6]]\n",
      "读取的数组2为： [0.  0.1 0.2 0.3 0.4 0.5 0.6 0.7 0.8 0.9]\n"
     ]
    }
   ],
   "source": [
    "# 代码 2-41\n",
    "# 读取含有单个数组的文件\n",
    "loaded_data = np.load('./data/save_arr.npy')  \n",
    "print('读取的数组为：\\n', loaded_data)\n",
    " # 读取含有多个数组的文件\n",
    "loaded_data1 = np.load('./data/savez_arr.npz') \n",
    "print('读取的数组1为：\\n', loaded_data1['arr_0'])\n",
    "print('读取的数组2为：', loaded_data1['arr_1'])"
   ]
  },
  {
   "cell_type": "markdown",
   "metadata": {},
   "source": [
    "***"
   ]
  },
  {
   "cell_type": "markdown",
   "metadata": {},
   "source": [
    "### 文件的存储与读取"
   ]
  },
  {
   "cell_type": "markdown",
   "metadata": {},
   "source": [
    "(1)写文件"
   ]
  },
  {
   "cell_type": "markdown",
   "metadata": {},
   "source": [
    "在实际的数据分析任务中，更多地是使用文本格式的数据，如TXT或CSV格式，因此通常会使用savetxt函数、loadtxt函数和genfromtxt函数执行对文本格式数据的读取任务。   \n",
    "savetxt函数可将数组写到以某种分隔符隔开的文本文件中，其基本使用格式如下。  \n",
    "\n",
    "\n",
    "参数fname接收str，表示文件名。   \n",
    "参数X接收array_like，表示数组数据。    \n",
    "参数delimiter接收str，表示数据分隔符。    \n"
   ]
  },
  {
   "cell_type": "code",
   "execution_count": 10,
   "metadata": {},
   "outputs": [
    {
     "name": "stdout",
     "output_type": "stream",
     "text": [
      "创建的数组为：\n",
      " [[ 0.   0.5  1.   1.5  2.   2.5]\n",
      " [ 3.   3.5  4.   4.5  5.   5.5]\n",
      " [ 6.   6.5  7.   7.5  8.   8.5]\n",
      " [ 9.   9.5 10.  10.5 11.  11.5]]\n"
     ]
    }
   ],
   "source": [
    "# 代码 2-42\n",
    "arr = np.arange(0, 12, 0.5).reshape(4, -1)\n",
    "print('创建的数组为：\\n', arr)\n",
    "\n",
    "# fmt='%d'表示保存为整数\n",
    "np.savetxt('./data/arr1.txt', arr, fmt='%f', delimiter=',')"
   ]
  },
  {
   "cell_type": "markdown",
   "metadata": {},
   "source": [
    "（2）读文件"
   ]
  },
  {
   "cell_type": "markdown",
   "metadata": {},
   "source": [
    "loadtxt函数执行的是相反的操作，即将文件加载到一个二维数组中，其基本使用格式如下。\n",
    "\n",
    "\n",
    "\n",
    "loadtxt函数的常用参数主要有两个，分别是fname和delimiter。   \n",
    "参数fname接收str，表示需要读取的文件、文件名或生成器。   \n",
    "参数delimiter接收str，表示用于分隔数值的分隔符。   \n"
   ]
  },
  {
   "cell_type": "code",
   "execution_count": 11,
   "metadata": {},
   "outputs": [
    {
     "name": "stdout",
     "output_type": "stream",
     "text": [
      "读取的数组为：\n",
      " [[ 0.   0.5  1.   1.5  2.   2.5]\n",
      " [ 3.   3.5  4.   4.5  5.   5.5]\n",
      " [ 6.   6.5  7.   7.5  8.   8.5]\n",
      " [ 9.   9.5 10.  10.5 11.  11.5]]\n"
     ]
    }
   ],
   "source": [
    "# 读入的时候也需要指定逗号分隔\n",
    "loaded_data = np.loadtxt('./data/arr1.txt',dtype=float, delimiter=',') \n",
    "print('读取的数组为：\\n', loaded_data)"
   ]
  },
  {
   "cell_type": "markdown",
   "metadata": {},
   "source": [
    "（3）genfromtxt读文件"
   ]
  },
  {
   "cell_type": "markdown",
   "metadata": {},
   "source": [
    "genfromtxt函数和loadtxt函数相似，只不过genfromtxt函数面向的是结构化数组和缺失数据。   \n",
    "genfromtxt函数通常使用的参数有3个。   \n",
    "即用于存放数据的文件名参数“fname”。   \n",
    "用于分隔的字符参数“delimiter”。   \n",
    "是否含有列标题参数“names”。  \n"
   ]
  },
  {
   "cell_type": "code",
   "execution_count": 12,
   "metadata": {},
   "outputs": [
    {
     "name": "stdout",
     "output_type": "stream",
     "text": [
      "读取的数组为：\n",
      " [[ 0.   0.5  1.   1.5  2.   2.5]\n",
      " [ 3.   3.5  4.   4.5  5.   5.5]\n",
      " [ 6.   6.5  7.   7.5  8.   8.5]\n",
      " [ 9.   9.5 10.  10.5 11.  11.5]]\n"
     ]
    }
   ],
   "source": [
    "# 代码 2-43\n",
    "loaded_data = np.genfromtxt('./data/arr1.txt', delimiter=',')\n",
    "print('读取的数组为：\\n', loaded_data)"
   ]
  }
 ],
 "metadata": {
  "kernelspec": {
   "display_name": "Python 3.10.12 ('myenvironment')",
   "language": "python",
   "name": "python3"
  },
  "language_info": {
   "codemirror_mode": {
    "name": "ipython",
    "version": 3
   },
   "file_extension": ".py",
   "mimetype": "text/x-python",
   "name": "python",
   "nbconvert_exporter": "python",
   "pygments_lexer": "ipython3",
   "version": "3.10.12"
  },
  "orig_nbformat": 4,
  "vscode": {
   "interpreter": {
    "hash": "752244e9522ce7bff77f709c9fbfe6d48f384cad76934c97270b332f67d36b72"
   }
  }
 },
 "nbformat": 4,
 "nbformat_minor": 2
}
