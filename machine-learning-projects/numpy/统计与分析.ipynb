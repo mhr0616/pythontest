{
 "cells": [
  {
   "cell_type": "markdown",
   "metadata": {},
   "source": [
    "# 使用函数进行简单的统计分析"
   ]
  },
  {
   "cell_type": "markdown",
   "metadata": {},
   "source": [
    "## 1排序"
   ]
  },
  {
   "cell_type": "markdown",
   "metadata": {},
   "source": [
    "\n",
    "NumPy的排序方式主要可以概括为直接排序和间接排序两种。   \n",
    "\n",
    "直接排序指对数值直接进行排序；间接排序是指根据一个或多个键对数据集进行排序。   \n",
    "\n",
    "在NumPy中，直接排序通常是使用sort函数，间接排序通常是使用argsort函数和lexsort函数。   \n",
    "\n"
   ]
  },
  {
   "cell_type": "code",
   "execution_count": 2,
   "metadata": {},
   "outputs": [
    {
     "name": "stdout",
     "output_type": "stream",
     "text": [
      "创建的数组为： [7 4 8 5 7 3 7 8 5 4]\n"
     ]
    }
   ],
   "source": [
    "#直接排序\n",
    "import numpy as np\n",
    "np.random.seed(42)  # 设置随机种子\n",
    "arr = np.random.randint(1, 10, size=10)  # 生成随机数组\n",
    "print('创建的数组为：', arr)"
   ]
  },
  {
   "cell_type": "markdown",
   "metadata": {},
   "source": [
    "sort函数是较为常用的排序方法，无返回值。如果目标函数是一个视图，那么原始数据将会被修改。\n",
    "\n",
    "当使用sort函数排序时，用户可以指定一个axis参数，使得sort函数可以沿着指定轴对数据集进行排序。\n",
    "\n",
    "\n",
    "\n"
   ]
  },
  {
   "cell_type": "markdown",
   "metadata": {},
   "source": [
    "sort排序，改变原始值"
   ]
  },
  {
   "cell_type": "code",
   "execution_count": 3,
   "metadata": {},
   "outputs": [
    {
     "name": "stdout",
     "output_type": "stream",
     "text": [
      "排序后数组为： [3 4 4 5 5 7 7 7 8 8]\n"
     ]
    }
   ],
   "source": [
    "arr.sort()  # 直接排序\n",
    "print('排序后数组为：', arr)"
   ]
  },
  {
   "cell_type": "code",
   "execution_count": 4,
   "metadata": {},
   "outputs": [
    {
     "name": "stdout",
     "output_type": "stream",
     "text": [
      "创建的数组为：\n",
      " [[7 4 8]\n",
      " [5 7 3]\n",
      " [7 8 5]]\n"
     ]
    }
   ],
   "source": [
    "np.random.seed(42)  # 设置随机种子\n",
    "arr = np.random.randint(1, 10, size=(3, 3))  # 生成3行3列的随机数组\n",
    "print('创建的数组为：\\n', arr)"
   ]
  },
  {
   "cell_type": "markdown",
   "metadata": {},
   "source": [
    "按行排序"
   ]
  },
  {
   "cell_type": "code",
   "execution_count": 5,
   "metadata": {},
   "outputs": [
    {
     "name": "stdout",
     "output_type": "stream",
     "text": [
      "排序后数组为：\n",
      " [[4 7 8]\n",
      " [3 5 7]\n",
      " [5 7 8]]\n"
     ]
    }
   ],
   "source": [
    "arr.sort(axis=1)  # 沿着横轴排序\n",
    "print('排序后数组为：\\n', arr)"
   ]
  },
  {
   "cell_type": "markdown",
   "metadata": {},
   "source": [
    "按列排序"
   ]
  },
  {
   "cell_type": "code",
   "execution_count": 6,
   "metadata": {},
   "outputs": [
    {
     "name": "stdout",
     "output_type": "stream",
     "text": [
      "排序后数组为：\n",
      " [[3 5 7]\n",
      " [4 7 8]\n",
      " [5 7 8]]\n"
     ]
    }
   ],
   "source": [
    "arr.sort(axis=0)  # 沿着纵轴排序\n",
    "print('排序后数组为：\\n', arr)"
   ]
  },
  {
   "cell_type": "markdown",
   "metadata": {},
   "source": [
    "使用argsort函数和lexsort函数，可以在给定一个或多个键时，得到一个由整数构成的索引数组，索引值表示数据在新的序列中的位置。\n",
    "\n",
    "lexsort函数可以一次性对满足多个键的数组执行间接排序。"
   ]
  },
  {
   "cell_type": "code",
   "execution_count": 7,
   "metadata": {},
   "outputs": [
    {
     "name": "stdout",
     "output_type": "stream",
     "text": [
      "创建的数组为： [2 3 6 8 0 7]\n",
      "排序后数组为： [4 0 1 2 5 3]\n"
     ]
    }
   ],
   "source": [
    "arr = np.array([2, 3 , 6, 8, 0, 7])\n",
    "print('创建的数组为：', arr)\n",
    "print('排序后数组为：', arr.argsort())  # 返回值为重新排序值的下标"
   ]
  },
  {
   "cell_type": "markdown",
   "metadata": {},
   "source": [
    "多级排序 \n",
    "下面的例题 先按照a升序排，元素相同的情况下按照b安排，最后c排序"
   ]
  },
  {
   "cell_type": "code",
   "execution_count": 8,
   "metadata": {},
   "outputs": [
    {
     "name": "stdout",
     "output_type": "stream",
     "text": [
      "排序后数组为：\n",
      " [(4, 20, 100), (5, 10, 200), (2, 30, 300), (3, 50, 400), (6, 40, 600)]\n"
     ]
    }
   ],
   "source": [
    "# 代码 2-46\n",
    "a = np.array([3, 2, 6, 4, 5])\n",
    "b = np.array([50, 30, 40, 20, 10])\n",
    "c = np.array([400, 300, 600, 100, 200])\n",
    "d = np.lexsort((a, b, c))  # lexsort函数只接受一个参数，即（a,b,c）\n",
    "# 多个键值排序是按照最后一个传入数据计算的\n",
    "print('排序后数组为：\\n', list(zip(a[d], b[d], c[d])))"
   ]
  },
  {
   "cell_type": "markdown",
   "metadata": {},
   "source": [
    "****"
   ]
  },
  {
   "cell_type": "markdown",
   "metadata": {},
   "source": [
    "### 去重"
   ]
  },
  {
   "cell_type": "code",
   "execution_count": 9,
   "metadata": {},
   "outputs": [
    {
     "name": "stdout",
     "output_type": "stream",
     "text": [
      "创建的数组为： ['小明' '小黄' '小花' '小明' '小花' '小兰' '小白']\n",
      "去重后的数组为： ['小兰' '小明' '小白' '小花' '小黄']\n"
     ]
    }
   ],
   "source": [
    "names = np.array(['小明', '小黄', '小花', '小明', \n",
    "    '小花', '小兰', '小白'])\n",
    "print('创建的数组为：', names)\n",
    "\n",
    "print('去重后的数组为：', np.unique(names))"
   ]
  },
  {
   "cell_type": "code",
   "execution_count": 10,
   "metadata": {},
   "outputs": [
    {
     "name": "stdout",
     "output_type": "stream",
     "text": [
      "去重后的数组为： ['小兰', '小明', '小白', '小花', '小黄']\n",
      "创建的数组为： [ 1  2  3  4  4  5  6  6  7  8  8  9 10]\n",
      "去重后的数组为： [ 1  2  3  4  5  6  7  8  9 10]\n"
     ]
    }
   ],
   "source": [
    "# 跟np.unique函数等价的Python代码实现过程\n",
    "print('去重后的数组为：', sorted(set(names)))\n",
    "# 创建数值型数据\n",
    "ints = np.array([1, 2, 3, 4, 4, 5, 6, 6, 7, 8, 8, 9, 10])\n",
    "print('创建的数组为：', ints)\n",
    "print('去重后的数组为：', np.unique(ints))"
   ]
  },
  {
   "cell_type": "markdown",
   "metadata": {},
   "source": [
    "使用tile函数实现数据重复"
   ]
  },
  {
   "cell_type": "code",
   "execution_count": 11,
   "metadata": {},
   "outputs": [
    {
     "name": "stdout",
     "output_type": "stream",
     "text": [
      "创建的数组为： [0 1 2 3 4]\n",
      "重复后数组为： [0 1 2 3 4 0 1 2 3 4 0 1 2 3 4]\n"
     ]
    }
   ],
   "source": [
    "# 代码 2-48\n",
    "arr = np.arange(5)\n",
    "print('创建的数组为：', arr)\n",
    "print('重复后数组为：', np.tile(arr, 3))  # 对数组进行重复"
   ]
  },
  {
   "cell_type": "markdown",
   "metadata": {},
   "source": [
    "使用repeat实现重复"
   ]
  },
  {
   "cell_type": "code",
   "execution_count": 12,
   "metadata": {},
   "outputs": [
    {
     "name": "stdout",
     "output_type": "stream",
     "text": [
      "创建的数组为：\n",
      " [[6 3 7]\n",
      " [4 6 9]\n",
      " [2 6 7]]\n",
      "重复后数组为：\n",
      " [[6 3 7]\n",
      " [6 3 7]\n",
      " [4 6 9]\n",
      " [4 6 9]\n",
      " [2 6 7]\n",
      " [2 6 7]]\n",
      "重复后数组为：\n",
      " [[6 6 3 3 7 7]\n",
      " [4 4 6 6 9 9]\n",
      " [2 2 6 6 7 7]]\n"
     ]
    }
   ],
   "source": [
    "# 代码 2-49\n",
    "np.random.seed(42)  # 设置随机种子\n",
    "arr = np.random.randint(0, 10,size=(3, 3))\n",
    "print('创建的数组为：\\n', arr)\n",
    "print('重复后数组为：\\n', arr.repeat(2, axis=0))  # 按行进行元素重复\n",
    "print('重复后数组为：\\n', arr.repeat(2, axis=1))  # 按列进行元素重复"
   ]
  },
  {
   "cell_type": "markdown",
   "metadata": {},
   "source": [
    "### 常见的统计函数"
   ]
  },
  {
   "cell_type": "markdown",
   "metadata": {},
   "source": [
    "在NumPy中，有许多可以用于统计分析的函数。  \n",
    "\n",
    "常见的统计函数有sum、mean、std、var、min和max等。\n",
    "\n",
    "几乎所有的统计函数在针对二维数组计算的时候都需要注意轴的概念。\n",
    "\n",
    "当axis参数为0时，表示沿着纵轴进行计算；当axis为1时，表示沿着横轴进行计算。\n",
    "\n",
    "默认情况下，函数并不按照任一轴向计算，而是计算一个总值。\n",
    "\n",
    "聚合计算将直接显示计算的最终结果，在NumPy中，cumsum函数和cumprod函数采用不聚合计算，产生一个由中间结果组成的数组。\n",
    "\n"
   ]
  },
  {
   "cell_type": "code",
   "execution_count": 13,
   "metadata": {},
   "outputs": [
    {
     "name": "stdout",
     "output_type": "stream",
     "text": [
      "创建的数组为：\n",
      " [[ 0  1  2  3  4]\n",
      " [ 5  6  7  8  9]\n",
      " [10 11 12 13 14]\n",
      " [15 16 17 18 19]]\n",
      "数组的和为： 190\n",
      "数组横轴的和为： [30 34 38 42 46]\n",
      "数组纵轴的和为： [10 35 60 85]\n",
      "数组的均值为： 9.5\n",
      "数组横轴的均值为： [ 7.5  8.5  9.5 10.5 11.5]\n",
      "数组纵轴的均值为： [ 2.  7. 12. 17.]\n",
      "数组的标准差为： 5.766281297335398\n",
      "数组的方差为： 33.25\n",
      "数组的最小值为： 0\n",
      "数组的最大值为： 19\n",
      "数组的最小元素为： 0\n",
      "数组的最大元素为： 19\n"
     ]
    }
   ],
   "source": [
    "arr = np.arange(20).reshape(4, 5)\n",
    "print('创建的数组为：\\n', arr)\n",
    "print('数组的和为：', np.sum(arr))  # 计算数组的和\n",
    "print('数组横轴的和为：', arr.sum(axis=0))  # 沿着横轴计算求和\n",
    "print('数组纵轴的和为：', arr.sum(axis=1))  # 沿着纵轴计算求和\n",
    "print('数组的均值为：', np.mean(arr))  # 计算数组均值\n",
    "print('数组横轴的均值为：', arr.mean(axis=0))  # 沿着横轴计算数组均值\n",
    "print('数组纵轴的均值为：', arr.mean(axis=1))  # 沿着纵轴计算数组均值\n",
    "print('数组的标准差为：', np.std(arr))  # 计算数组标准差\n",
    "print('数组的方差为：', np.var(arr))  # 计算数组方差\n",
    "print('数组的最小值为：', np.min(arr))  # 计算数组最小值\n",
    "print('数组的最大值为：', np.max(arr))  # 计算数组最大值\n",
    "print('数组的最小元素为：', np.argmin(arr))  # 返回数组最小元素的索引\n",
    "print('数组的最大元素为：', np.argmax(arr))  # 返回数组最大元素的索引"
   ]
  }
 ],
 "metadata": {
  "kernelspec": {
   "display_name": "Python 3.10.12 ('myenvironment')",
   "language": "python",
   "name": "python3"
  },
  "language_info": {
   "codemirror_mode": {
    "name": "ipython",
    "version": 3
   },
   "file_extension": ".py",
   "mimetype": "text/x-python",
   "name": "python",
   "nbconvert_exporter": "python",
   "pygments_lexer": "ipython3",
   "version": "3.10.12"
  },
  "orig_nbformat": 4,
  "vscode": {
   "interpreter": {
    "hash": "752244e9522ce7bff77f709c9fbfe6d48f384cad76934c97270b332f67d36b72"
   }
  }
 },
 "nbformat": 4,
 "nbformat_minor": 2
}
