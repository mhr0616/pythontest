{
 "cells": [
  {
   "cell_type": "markdown",
   "metadata": {},
   "source": []
  },
  {
   "cell_type": "markdown",
   "metadata": {},
   "source": [
    "# Numpy讲解"
   ]
  },
  {
   "cell_type": "markdown",
   "metadata": {},
   "source": [
    "Numpy是python的开源的数值计算的扩展。\n",
    "可用来存储和处理大型矩阵，比Python自身数据结构要高效。\n",
    "Numpy将python变成一种免费的强大的Matlab系统。\n"
   ]
  },
  {
   "cell_type": "markdown",
   "metadata": {},
   "source": [
    "numpy其核心为N维数组对象，称为ndarray对象。   \n",
    "包含三种方法创建一个ndarray对象，    \n",
    "1.由list转换而来。   \n",
    "2.借助numpy提供的函数构造ndarray对象    \n",
    "3.读文件生成。   "
   ]
  },
  {
   "cell_type": "markdown",
   "metadata": {},
   "source": [
    "numpy的官方帮助文档\n",
    "https://numpy.org.cn/article/basics/different_ways_create_numpy_arrays.html"
   ]
  },
  {
   "cell_type": "markdown",
   "metadata": {},
   "source": [
    "step1：安装numpy"
   ]
  },
  {
   "cell_type": "code",
   "execution_count": 2,
   "metadata": {},
   "outputs": [
    {
     "name": "stdout",
     "output_type": "stream",
     "text": [
      "Collecting package metadata (current_repodata.json): ...working... done\n",
      "Solving environment: ...working... done\n",
      "\n",
      "# All requested packages already installed.\n",
      "\n",
      "\n",
      "Note: you may need to restart the kernel to use updated packages.\n"
     ]
    }
   ],
   "source": [
    "%conda install numpy"
   ]
  },
  {
   "cell_type": "markdown",
   "metadata": {},
   "source": [
    "step2：第一种方法：由list直接转换ndarray对象"
   ]
  },
  {
   "cell_type": "markdown",
   "metadata": {},
   "source": [
    "numpy.array(object, dtype=None, *, copy=True, order='K', subok=False, ndmin=0, like=None)\n"
   ]
  },
  {
   "cell_type": "markdown",
   "metadata": {},
   "source": [
    "object：接受对象,\n",
    "dtype：数据类型,\n",
    "ndmin：维度，默认是0维."
   ]
  },
  {
   "cell_type": "code",
   "execution_count": 1,
   "metadata": {},
   "outputs": [
    {
     "name": "stdout",
     "output_type": "stream",
     "text": [
      "[1 2 3]\n"
     ]
    }
   ],
   "source": [
    "import numpy  as np\n",
    "array_1 =np.array([1,2,3])\n",
    "print(array_1)"
   ]
  },
  {
   "cell_type": "markdown",
   "metadata": {},
   "source": [
    "step3：查看相应的属性"
   ]
  },
  {
   "cell_type": "markdown",
   "metadata": {},
   "source": []
  },
  {
   "cell_type": "code",
   "execution_count": 6,
   "metadata": {},
   "outputs": [
    {
     "name": "stdout",
     "output_type": "stream",
     "text": [
      "<class 'numpy.ndarray'>\n",
      "[[1 2 3]\n",
      " [4 5 6]]\n",
      "(2, 3)\n",
      "2\n"
     ]
    }
   ],
   "source": [
    "#查看数据类型\n",
    "print(type(array_1))\n",
    "\n",
    "#二维数据\n",
    "array_2 = np.array([[1,2,3],[4,5,6]])\n",
    "print(array_2)\n",
    "\n",
    "#查看他的形状\n",
    "print(array_2.shape)\n",
    "#查看维度\n",
    "print(array_2.ndim)"
   ]
  },
  {
   "cell_type": "markdown",
   "metadata": {},
   "source": []
  },
  {
   "cell_type": "markdown",
   "metadata": {},
   "source": [
    "创建二维数组"
   ]
  },
  {
   "cell_type": "code",
   "execution_count": 2,
   "metadata": {},
   "outputs": [
    {
     "name": "stdout",
     "output_type": "stream",
     "text": [
      "创建的数组为：\n",
      " [[ 1  2  3  4]\n",
      " [ 4  5  6  7]\n",
      " [ 7  8  9 10]]\n",
      "数组维度为： (3, 4)\n",
      "数组类型为： int32\n",
      "数组元素个数为： 12\n",
      "数组每个元素大小为： 4\n"
     ]
    }
   ],
   "source": [
    "import numpy  as np\n",
    "# 创建二维数组\n",
    "arr2 = np.array([[1, 2, 3, 4],[4, 5, 6, 7], [7, 8, 9, 10]])\n",
    "print('创建的数组为：\\n', arr2)\n",
    "\n",
    "print('数组维度为：', arr2.shape)  # 查看数组结构\n",
    "print('数组类型为：', arr2.dtype)  # 查看数组类型\n",
    "print('数组元素个数为：', arr2.size)  # 查看数组元素个数\n",
    "print('数组每个元素大小为：', arr2.itemsize)  # 查看数组每个元素大小"
   ]
  },
  {
   "cell_type": "markdown",
   "metadata": {},
   "source": [
    "step4：第二种方法，利用numpy函数创建adarray对象"
   ]
  },
  {
   "cell_type": "markdown",
   "metadata": {},
   "source": [
    "1.利用anrange创建三维数组"
   ]
  },
  {
   "cell_type": "markdown",
   "metadata": {},
   "source": [
    "reshape(2,4,3)表示有个2个四行三列的二维数组"
   ]
  },
  {
   "cell_type": "code",
   "execution_count": 7,
   "metadata": {},
   "outputs": [
    {
     "name": "stdout",
     "output_type": "stream",
     "text": [
      "[[[ 0  1  2]\n",
      "  [ 3  4  5]\n",
      "  [ 6  7  8]\n",
      "  [ 9 10 11]]\n",
      "\n",
      " [[12 13 14]\n",
      "  [15 16 17]\n",
      "  [18 19 20]\n",
      "  [21 22 23]]]\n"
     ]
    }
   ],
   "source": [
    "array = np.arange(24).reshape(2,4,3)\n",
    "print(array)"
   ]
  },
  {
   "cell_type": "markdown",
   "metadata": {},
   "source": [
    "2.使用其他Numpy函数\n",
    "除了arange函数之外，你还可以使用其他有用的函数（如 zeros 和 ones）来快速创建和填充数组。\n",
    "使用zeros函数创建一个填充零的数组。函数的参数表示行数和列数（或其维数）。"
   ]
  },
  {
   "cell_type": "code",
   "execution_count": 8,
   "metadata": {},
   "outputs": [
    {
     "name": "stdout",
     "output_type": "stream",
     "text": [
      "[[0. 0. 0. 0.]\n",
      " [0. 0. 0. 0.]]\n"
     ]
    }
   ],
   "source": [
    "arr6=np.zeros((2,4))\n",
    "print(arr6)"
   ]
  },
  {
   "cell_type": "markdown",
   "metadata": {},
   "source": [
    "用1填充"
   ]
  },
  {
   "cell_type": "code",
   "execution_count": null,
   "metadata": {},
   "outputs": [],
   "source": [
    "arr7=np.ones((3,4))\n",
    "print(arr7)"
   ]
  },
  {
   "cell_type": "markdown",
   "metadata": {},
   "source": [
    "full函数创建一个填充给定值的n * n数组。"
   ]
  },
  {
   "cell_type": "code",
   "execution_count": 11,
   "metadata": {},
   "outputs": [
    {
     "name": "stdout",
     "output_type": "stream",
     "text": [
      "[[[6 6 6 6]\n",
      "  [6 6 6 6]\n",
      "  [6 6 6 6]]\n",
      "\n",
      " [[6 6 6 6]\n",
      "  [6 6 6 6]\n",
      "  [6 6 6 6]]]\n"
     ]
    }
   ],
   "source": [
    "arr7=np.full((2,3,4),6)\n",
    "print(arr7)"
   ]
  },
  {
   "cell_type": "markdown",
   "metadata": {},
   "source": [
    "函数linspace在指定的时间间隔内返回均匀间隔的数字。 例如，下面的函数返回0到10之间的四个等间距数字。"
   ]
  },
  {
   "cell_type": "code",
   "execution_count": 4,
   "metadata": {},
   "outputs": [
    {
     "data": {
      "text/plain": [
       "array([ 0,  2,  5,  7, 10])"
      ]
     },
     "execution_count": 4,
     "metadata": {},
     "output_type": "execute_result"
    }
   ],
   "source": [
    "import numpy  as np\n",
    "np.linspace(0, 10, num=5,dtype=int)"
   ]
  },
  {
   "cell_type": "markdown",
   "metadata": {},
   "source": [
    "你还可以使用特殊库函数来创建数组。例如，要创建一个填充0到1之间随机值的数组，请使用random函数。这对于需要随机状态才能开始的问题特别有用。"
   ]
  },
  {
   "cell_type": "code",
   "execution_count": 5,
   "metadata": {},
   "outputs": [
    {
     "data": {
      "text/plain": [
       "array([[0.75955831, 0.78583813],\n",
       "       [0.10995654, 0.79392177]])"
      ]
     },
     "execution_count": 5,
     "metadata": {},
     "output_type": "execute_result"
    }
   ],
   "source": [
    "np.random.random((2,2))"
   ]
  },
  {
   "cell_type": "code",
   "execution_count": 6,
   "metadata": {},
   "outputs": [
    {
     "name": "stdout",
     "output_type": "stream",
     "text": [
      "生成的随机数组为：\n",
      " [0.87948804 0.93065765 0.40102537 0.29482184 0.63365458 0.23656747\n",
      " 0.83095051 0.68892029 0.81162129 0.97449862 0.36226004 0.31708618\n",
      " 0.60789012 0.28580913 0.0974577  0.19500227 0.00327677 0.36742416\n",
      " 0.7207724  0.15992063 0.09318239 0.74665179 0.53852039 0.21542668\n",
      " 0.44164871 0.53954563 0.43732564 0.35105325 0.25430126 0.35431458\n",
      " 0.31882305 0.33559333 0.08391902 0.47277899 0.79338764 0.32992248\n",
      " 0.57165111 0.99682946 0.0845591  0.88125621 0.97579396 0.4897141\n",
      " 0.57035648 0.02260736 0.73121659 0.86649956 0.99182359 0.56523804\n",
      " 0.39077184 0.5404407  0.39173527 0.17757423 0.90569273 0.86815913\n",
      " 0.34355835 0.59573835 0.2741421  0.58967185 0.723479   0.16477\n",
      " 0.97366064 0.97397312 0.77617116 0.1333179  0.29890576 0.41726562\n",
      " 0.77625386 0.00241168 0.2698286  0.24952094 0.48994875 0.38496755\n",
      " 0.41026403 0.34821403 0.99350772 0.12775395 0.15760639 0.19944955\n",
      " 0.07560515 0.77709007 0.43441109 0.19505781 0.66284387 0.98469385\n",
      " 0.21949175 0.18866659 0.77583016 0.19858558 0.2528528  0.94581761\n",
      " 0.1418932  0.11505376 0.63205761 0.0106353  0.81362153 0.55690952\n",
      " 0.07134142 0.31569598 0.44640815 0.84777336]\n",
      "生成的随机数组为：\n",
      " [[0.61263923 0.2478532  0.70097774 0.10660753 0.09390242]\n",
      " [0.01719076 0.97525583 0.68895178 0.03234906 0.17737231]\n",
      " [0.65850197 0.94637996 0.41367039 0.99949921 0.62910446]\n",
      " [0.17174633 0.96921098 0.24799172 0.33759377 0.1490007 ]\n",
      " [0.2292749  0.95897211 0.74555063 0.38237809 0.62050207]\n",
      " [0.08862056 0.06824298 0.67938654 0.91129218 0.88585494]\n",
      " [0.15695454 0.48238895 0.66256206 0.46950121 0.75287197]\n",
      " [0.02205163 0.83666481 0.68050362 0.11373543 0.81971428]\n",
      " [0.04252444 0.42587888 0.69857308 0.78046198 0.53381341]\n",
      " [0.548457   0.90309628 0.68996989 0.11074328 0.05933409]]\n",
      "生成的随机数组为：\n",
      " [[ 1.57473013  0.56617313 -0.7778706  -0.78791081  0.24622104]\n",
      " [ 1.66648552  0.63749864  0.25827721  0.35249565 -0.87490615]\n",
      " [ 0.05638128  0.35838376 -0.47756366  0.15054932 -0.37109054]\n",
      " [-1.34673422 -0.58185517  1.32602873 -0.84150137 -0.07740388]\n",
      " [ 0.46729445  0.39987853  1.16320501 -0.44676285 -1.17331268]\n",
      " [-0.66502908  0.55202677 -1.14097855 -1.01735723 -1.29773166]\n",
      " [-0.91715839  0.36116888 -1.45341029 -1.57256478  0.91515667]\n",
      " [ 0.35149357 -1.16258269  1.58427411 -1.45489302 -0.02913305]\n",
      " [-1.34504227  0.95164596  0.56511823 -1.57870334  0.13119569]\n",
      " [ 0.86351282 -0.97749591  0.53643735  1.19855857  0.01325314]]\n",
      "生成的随机数组为：\n",
      " [[9 2 4 2 3]\n",
      " [5 7 6 7 7]]\n"
     ]
    }
   ],
   "source": [
    "# 代码 2-14\n",
    "print('生成的随机数组为：\\n', np.random.random(100))\n",
    "\n",
    "# 代码 2-15\n",
    "print('生成的随机数组为：\\n', np.random.rand(10,5))\n",
    "\n",
    "# 代码 2-16\n",
    "print('生成的随机数组为：\\n', np.random.randn(10,5))\n",
    "\n",
    "# 代码 2-17\n",
    "print('生成的随机数组为：\\n', np.random.randint(2, 10, size=[2,5]))"
   ]
  }
 ],
 "metadata": {
  "kernelspec": {
   "display_name": "Python 3.10.12 ('myenvironment')",
   "language": "python",
   "name": "python3"
  },
  "language_info": {
   "codemirror_mode": {
    "name": "ipython",
    "version": 3
   },
   "file_extension": ".py",
   "mimetype": "text/x-python",
   "name": "python",
   "nbconvert_exporter": "python",
   "pygments_lexer": "ipython3",
   "version": "3.10.12"
  },
  "orig_nbformat": 4,
  "vscode": {
   "interpreter": {
    "hash": "752244e9522ce7bff77f709c9fbfe6d48f384cad76934c97270b332f67d36b72"
   }
  }
 },
 "nbformat": 4,
 "nbformat_minor": 2
}
