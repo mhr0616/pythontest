{
 "cells": [
  {
   "cell_type": "markdown",
   "metadata": {},
   "source": [
    "# 矩阵"
   ]
  },
  {
   "cell_type": "markdown",
   "metadata": {},
   "source": [
    "### 1创建矩阵"
   ]
  },
  {
   "cell_type": "code",
   "execution_count": 1,
   "metadata": {},
   "outputs": [
    {
     "name": "stdout",
     "output_type": "stream",
     "text": [
      "创建的矩阵为：\n",
      " [[1 2 3]\n",
      " [4 5 6]\n",
      " [7 8 9]]\n",
      "创建的矩阵为：\n",
      " [[1 2 3]\n",
      " [4 5 6]\n",
      " [7 8 9]]\n"
     ]
    }
   ],
   "source": [
    "# 代码 2-30\n",
    "import numpy as np  # 导入NumPy库\n",
    "matr1 = np.mat('1 2 3; 4 5 6; 7 8 9')  # 使用分号隔开数据\n",
    "print('创建的矩阵为：\\n', matr1)\n",
    "\n",
    "\n",
    "matr2 = np.matrix([[1, 2, 3], [4, 5, 6], [7, 8, 9]])\n",
    "print('创建的矩阵为：\\n', matr2)"
   ]
  },
  {
   "cell_type": "markdown",
   "metadata": {},
   "source": [
    "***"
   ]
  },
  {
   "cell_type": "markdown",
   "metadata": {},
   "source": [
    "### 2将小矩阵组合成大举证 bmat函数的使用"
   ]
  },
  {
   "cell_type": "code",
   "execution_count": 2,
   "metadata": {},
   "outputs": [
    {
     "name": "stdout",
     "output_type": "stream",
     "text": [
      "创建的数组1为：\n",
      " [[1. 0. 0.]\n",
      " [0. 1. 0.]\n",
      " [0. 0. 1.]]\n",
      "创建的数组2为：\n",
      " [[3. 0. 0.]\n",
      " [0. 3. 0.]\n",
      " [0. 0. 3.]]\n",
      "创建的矩阵为：\n",
      " [[1. 0. 0. 3. 0. 0.]\n",
      " [0. 1. 0. 0. 3. 0.]\n",
      " [0. 0. 1. 0. 0. 3.]\n",
      " [1. 0. 0. 3. 0. 0.]\n",
      " [0. 1. 0. 0. 3. 0.]\n",
      " [0. 0. 1. 0. 0. 3.]]\n"
     ]
    }
   ],
   "source": [
    "# 代码 2-31\n",
    "arr1 = np.eye(3)\n",
    "print('创建的数组1为：\\n', arr1)\n",
    "\n",
    "arr2 = 3 * arr1\n",
    "print('创建的数组2为：\\n', arr2)\n",
    "\n",
    "print('创建的矩阵为：\\n', np.bmat('arr1 arr2; arr1 arr2'))"
   ]
  },
  {
   "cell_type": "markdown",
   "metadata": {},
   "source": [
    "***"
   ]
  },
  {
   "cell_type": "markdown",
   "metadata": {},
   "source": [
    "### 3形状相同的矩阵的运算"
   ]
  },
  {
   "cell_type": "code",
   "execution_count": 4,
   "metadata": {},
   "outputs": [
    {
     "name": "stdout",
     "output_type": "stream",
     "text": [
      "创建的矩阵为：\n",
      " [[1 2 3]\n",
      " [4 5 6]\n",
      " [7 8 9]]\n",
      "创建的矩阵为：\n",
      " [[ 3  6  9]\n",
      " [12 15 18]\n",
      " [21 24 27]]\n",
      "矩阵相加结果为：\n",
      " [[ 4  8 12]\n",
      " [16 20 24]\n",
      " [28 32 36]]\n",
      "矩阵相减结果为：\n",
      " [[ -2  -4  -6]\n",
      " [ -8 -10 -12]\n",
      " [-14 -16 -18]]\n",
      "矩阵相乘结果为：\n",
      " [[ 90 108 126]\n",
      " [198 243 288]\n",
      " [306 378 450]]\n",
      "矩阵对应元素相乘结果为：\n",
      " [[  3  12  27]\n",
      " [ 48  75 108]\n",
      " [147 192 243]]\n"
     ]
    }
   ],
   "source": [
    "# 代码 2-32\n",
    "matr1 = np.mat('1 2 3; 4 5 6; 7 8 9')  # 创建矩阵\n",
    "print('创建的矩阵为：\\n', matr1)\n",
    "\n",
    "matr2 = matr1 * 3  # 矩阵与数相乘\n",
    "print('创建的矩阵为：\\n', matr2)\n",
    "print('矩阵相加结果为：\\n', matr1 + matr2)  # 矩阵相加\n",
    "print('矩阵相减结果为：\\n', matr1 - matr2)  # 矩阵相减\n",
    "print('矩阵相乘结果为：\\n', matr1 * matr2)  # 矩阵相乘\n",
    "print('矩阵对应元素相乘结果为：\\n', np.multiply(matr1, matr2))"
   ]
  },
  {
   "cell_type": "markdown",
   "metadata": {},
   "source": [
    "***"
   ]
  },
  {
   "cell_type": "markdown",
   "metadata": {},
   "source": [
    "### 4矩阵的常见操作"
   ]
  },
  {
   "cell_type": "code",
   "execution_count": 5,
   "metadata": {},
   "outputs": [
    {
     "name": "stdout",
     "output_type": "stream",
     "text": [
      "矩阵转置结果为：\n",
      " [[6 1 3]\n",
      " [2 5 4]\n",
      " [1 2 8]]\n",
      "矩阵的逆矩阵结果为：\n",
      " [[ 0.18079096 -0.06779661 -0.00564972]\n",
      " [-0.01129944  0.25423729 -0.06214689]\n",
      " [-0.06214689 -0.10169492  0.15819209]]\n",
      "矩阵的二维数组结果为：\n",
      " [[6 2 1]\n",
      " [1 5 2]\n",
      " [3 4 8]]\n"
     ]
    }
   ],
   "source": [
    "matr3 = np.mat([[6, 2, 1], [1, 5, 2], [3, 4, 8]])\n",
    "print('矩阵转置结果为：\\n', matr3.T)  # 转置\n",
    "print('矩阵的逆矩阵结果为：\\n', matr3.I)  # 逆矩阵\n",
    "print('矩阵的二维数组结果为：\\n', matr3.A)  # 返回二维数组的视图"
   ]
  },
  {
   "cell_type": "markdown",
   "metadata": {},
   "source": [
    "***"
   ]
  },
  {
   "cell_type": "markdown",
   "metadata": {},
   "source": [
    "### 5+、-、*、/操作"
   ]
  },
  {
   "cell_type": "markdown",
   "metadata": {},
   "source": [
    "使用条件 形状相同，操作每个元素。"
   ]
  },
  {
   "cell_type": "code",
   "execution_count": 2,
   "metadata": {},
   "outputs": [
    {
     "name": "stdout",
     "output_type": "stream",
     "text": [
      "数组相加结果为： [5 7 9]\n",
      "数组相减结果为： [-3 -3 -3]\n",
      "数组相乘结果为： [ 4 10 18]\n",
      "数组相除结果为： [0.25 0.4  0.5 ]\n",
      "数组幂运算结果为： [  1  32 729]\n"
     ]
    }
   ],
   "source": [
    "# 代码 2-34\n",
    "import numpy as np  # 导入NumPy库\n",
    "x = np.array([1, 2, 3])\n",
    "y = np.array([4, 5, 6])\n",
    "print('数组相加结果为：', x + y)  # 数组相加\n",
    "print('数组相减结果为：', x - y)  # 数组相减\n",
    "print('数组相乘结果为：', x * y)  # 数组相乘\n",
    "print('数组相除结果为：', x / y)  # 数组相除\n",
    "print('数组幂运算结果为：', x ** y)  # 数组幂运算"
   ]
  },
  {
   "cell_type": "markdown",
   "metadata": {},
   "source": [
    "***"
   ]
  },
  {
   "cell_type": "markdown",
   "metadata": {},
   "source": [
    "### 6支持关系运算"
   ]
  },
  {
   "cell_type": "code",
   "execution_count": 4,
   "metadata": {},
   "outputs": [
    {
     "name": "stdout",
     "output_type": "stream",
     "text": [
      "数组比较结果为： [ True False False]\n",
      "数组比较结果为： [False False  True]\n",
      "数组比较结果为： [False  True False]\n",
      "数组比较结果为： [False  True  True]\n",
      "数组比较结果为： [ True  True False]\n",
      "数组比较结果为： [ True False  True]\n"
     ]
    }
   ],
   "source": [
    "# 代码 2-35\n",
    "x = np.array([1, 3, 5])\n",
    "y = np.array([2, 3, 4])\n",
    "print('数组比较结果为：', x < y)\n",
    "print('数组比较结果为：', x > y)\n",
    "print('数组比较结果为：', x == y)\n",
    "print('数组比较结果为：', x >= y)\n",
    "print('数组比较结果为：', x <= y)\n",
    "print('数组比较结果为：', x != y)"
   ]
  },
  {
   "cell_type": "markdown",
   "metadata": {},
   "source": [
    "***"
   ]
  },
  {
   "cell_type": "markdown",
   "metadata": {},
   "source": [
    "### 7、ufunc函数的广播机制\n"
   ]
  },
  {
   "cell_type": "markdown",
   "metadata": {},
   "source": [
    "（1）广播（Broadcasting）是指不同形状的数组之间执行算术运算的方式。  \n",
    "\n",
    " 满足以下2个规则：  \n",
    "     1）数组的某一维度等长  \n",
    "     2）其中一个数组的某一维度为1     \n",
    "\n"
   ]
  },
  {
   "cell_type": "markdown",
   "metadata": {},
   "source": [
    "（2）为了更好地使用广播机制，需要遵循以下4个原则。\n",
    "\n",
    "1）让所有的输入数组向其中shape最长的数组看齐，shape中不足的部分通过在前面加1补齐。\n",
    "\n",
    "2）输出数组的shape是输入数组shape的各个轴上的最大值。\n",
    "\n",
    "3）如果输入数组的某个轴和输出数组的对应轴的长度相同或其长度为1，那么这个数组能够用于计算，否则系统将会出错。\n",
    "\n",
    "4）当输入数组的某个轴的长度为1时，沿着此轴运算时使用此轴上的第一组值。\n",
    "\n"
   ]
  },
  {
   "cell_type": "code",
   "execution_count": 5,
   "metadata": {},
   "outputs": [
    {
     "name": "stdout",
     "output_type": "stream",
     "text": [
      "创建的数组1为：\n",
      " [[0 0 0]\n",
      " [1 1 1]\n",
      " [2 2 2]\n",
      " [3 3 3]]\n",
      "数组1的shape为： (4, 3)\n",
      "创建的数组2为： [1 2 3]\n",
      "数组2的shape为： (3,)\n",
      "数组相加结果为：\n",
      " [[1 2 3]\n",
      " [2 3 4]\n",
      " [3 4 5]\n",
      " [4 5 6]]\n"
     ]
    }
   ],
   "source": [
    "arr1 = np.array([[0, 0, 0], [1, 1, 1], [2, 2, 2], [3, 3, 3]])\n",
    "print('创建的数组1为：\\n', arr1)\n",
    "print('数组1的shape为：', arr1.shape)\n",
    "arr2 = np.array([1, 2, 3]) \n",
    "print('创建的数组2为：', arr2)\n",
    "print('数组2的shape为：', arr2.shape)\n",
    "print('数组相加结果为：\\n', arr1 + arr2)"
   ]
  },
  {
   "cell_type": "code",
   "execution_count": 6,
   "metadata": {},
   "outputs": [
    {
     "name": "stdout",
     "output_type": "stream",
     "text": [
      "创建的数组1为：\n",
      " [[0 0 0]\n",
      " [1 1 1]\n",
      " [2 2 2]\n",
      " [3 3 3]]\n",
      "数组1的shape为： (4, 3)\n",
      "创建的数组2为：\n",
      " [[1]\n",
      " [2]\n",
      " [3]\n",
      " [4]]\n",
      "数组2的shape为： (4, 1)\n",
      "数组相加结果为：\n",
      " [[1 1 1]\n",
      " [3 3 3]\n",
      " [5 5 5]\n",
      " [7 7 7]]\n"
     ]
    }
   ],
   "source": [
    "arr1 = np.array([[0, 0, 0], [1, 1, 1], [2, 2, 2], [3, 3, 3]])\n",
    "print('创建的数组1为：\\n', arr1)\n",
    "print('数组1的shape为：', arr1.shape)\n",
    "\n",
    "arr2 = np.array([1, 2, 3, 4]).reshape((4, 1))\n",
    "print('创建的数组2为：\\n', arr2)\n",
    "\n",
    "print('数组2的shape为：', arr2.shape)\n",
    "print('数组相加结果为：\\n', arr1 + arr2)"
   ]
  }
 ],
 "metadata": {
  "kernelspec": {
   "display_name": "Python 3.10.12 ('myenvironment')",
   "language": "python",
   "name": "python3"
  },
  "language_info": {
   "codemirror_mode": {
    "name": "ipython",
    "version": 3
   },
   "file_extension": ".py",
   "mimetype": "text/x-python",
   "name": "python",
   "nbconvert_exporter": "python",
   "pygments_lexer": "ipython3",
   "version": "3.10.12"
  },
  "orig_nbformat": 4,
  "vscode": {
   "interpreter": {
    "hash": "752244e9522ce7bff77f709c9fbfe6d48f384cad76934c97270b332f67d36b72"
   }
  }
 },
 "nbformat": 4,
 "nbformat_minor": 2
}
